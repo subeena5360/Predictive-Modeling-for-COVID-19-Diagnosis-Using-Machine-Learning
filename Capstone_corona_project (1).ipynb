{
  "nbformat": 4,
  "nbformat_minor": 0,
  "metadata": {
    "colab": {
      "provenance": []
    },
    "kernelspec": {
      "name": "python3",
      "display_name": "Python 3"
    },
    "language_info": {
      "name": "python"
    }
  },
  "cells": [
    {
      "cell_type": "markdown",
      "source": [
        "# **Predictive Modeling for COVID-19 Diagnosis Using Machine Learning**"
      ],
      "metadata": {
        "id": "lfZsLrQKK-Nr"
      }
    },
    {
      "cell_type": "markdown",
      "source": [
        "**In the wake of the COVID-19 pandemic, accurate and timely diagnosis has become paramount for effective management and control of the virus. Leveraging the power of machine learning, this project aims to develop a predictive model for COVID-19 diagnosis based on symptoms and demographic information. By analyzing a comprehensive dataset encompassing symptoms such as cough, fever, sore throat, shortness of breath, headache, as well as demographic factors including age, sex, and known contacts, our goal is to build a robust classification model capable of accurately identifying COVID-19 cases.Through this endeavor, we aim to contribute to the ongoing efforts to combat the spread of the virus and enhance healthcare decision-making processes.**"
      ],
      "metadata": {
        "id": "wJGV8ADZLKSY"
      }
    },
    {
      "cell_type": "markdown",
      "source": [
        "**Now let us start working on a dataset in our google colab. The first step is to import the libraries and load data. After that we will take a basic understanding of data like its shape, sample, is there are any NULL values present in the dataset. Understanding the data is an important step for prediction or any machine learning project.**"
      ],
      "metadata": {
        "id": "UlOehzHhrywQ"
      }
    },
    {
      "cell_type": "code",
      "execution_count": null,
      "metadata": {
        "id": "bvr6Crs9TvMU"
      },
      "outputs": [],
      "source": [
        "import pandas as pd                     # import required libraries for this project\n",
        "import numpy as np\n",
        "import seaborn as sns\n",
        "import matplotlib.pyplot as plt\n",
        "import warnings\n",
        "warnings.filterwarnings(\"ignore\")\n"
      ]
    },
    {
      "cell_type": "code",
      "source": [
        "from google.colab import drive\n",
        "drive.mount('/content/drive')"
      ],
      "metadata": {
        "colab": {
          "base_uri": "https://localhost:8080/"
        },
        "id": "lRDC6KnuUKtY",
        "outputId": "ad8c84d1-670f-4a45-d3f1-5e382e7e8647"
      },
      "execution_count": null,
      "outputs": [
        {
          "output_type": "stream",
          "name": "stdout",
          "text": [
            "Drive already mounted at /content/drive; to attempt to forcibly remount, call drive.mount(\"/content/drive\", force_remount=True).\n"
          ]
        }
      ]
    },
    {
      "cell_type": "code",
      "source": [
        "df = pd.read_csv(\"/content/drive/MyDrive/Colab Notebooks/CAP+Project+2+-+corona_tested_006.zip\")  # loading dataset"
      ],
      "metadata": {
        "id": "d92A5fc4UpiM"
      },
      "execution_count": null,
      "outputs": []
    },
    {
      "cell_type": "markdown",
      "source": [
        "## **DATA** **UNDERSTANDING** **AND** **PREPARATION**"
      ],
      "metadata": {
        "id": "OWuSWBYvu-N6"
      }
    },
    {
      "cell_type": "code",
      "source": [
        "df.head()           # it gives top 5 rows of dataset"
      ],
      "metadata": {
        "colab": {
          "base_uri": "https://localhost:8080/",
          "height": 206
        },
        "id": "7Y62lmLEU5WG",
        "outputId": "e08f802d-e3cc-4860-9b58-fb710e51c53c"
      },
      "execution_count": null,
      "outputs": [
        {
          "output_type": "execute_result",
          "data": {
            "text/plain": [
              "   Ind_ID   Test_date Cough_symptoms  Fever Sore_throat Shortness_of_breath  \\\n",
              "0       1  11-03-2020           TRUE  FALSE        TRUE               FALSE   \n",
              "1       2  11-03-2020          FALSE   TRUE       FALSE               FALSE   \n",
              "2       3  11-03-2020          FALSE   TRUE       FALSE               FALSE   \n",
              "3       4  11-03-2020           TRUE  FALSE       FALSE               FALSE   \n",
              "4       5  11-03-2020           TRUE  FALSE       FALSE               FALSE   \n",
              "\n",
              "  Headache    Corona Age_60_above   Sex           Known_contact  \n",
              "0    FALSE  negative         None  None                  Abroad  \n",
              "1    FALSE  positive         None  None                  Abroad  \n",
              "2    FALSE  positive         None  None                  Abroad  \n",
              "3    FALSE  negative         None  None                  Abroad  \n",
              "4    FALSE  negative         None  None  Contact with confirmed  "
            ],
            "text/html": [
              "\n",
              "  <div id=\"df-9a62942b-51db-433c-8a72-69548fb2fda3\" class=\"colab-df-container\">\n",
              "    <div>\n",
              "<style scoped>\n",
              "    .dataframe tbody tr th:only-of-type {\n",
              "        vertical-align: middle;\n",
              "    }\n",
              "\n",
              "    .dataframe tbody tr th {\n",
              "        vertical-align: top;\n",
              "    }\n",
              "\n",
              "    .dataframe thead th {\n",
              "        text-align: right;\n",
              "    }\n",
              "</style>\n",
              "<table border=\"1\" class=\"dataframe\">\n",
              "  <thead>\n",
              "    <tr style=\"text-align: right;\">\n",
              "      <th></th>\n",
              "      <th>Ind_ID</th>\n",
              "      <th>Test_date</th>\n",
              "      <th>Cough_symptoms</th>\n",
              "      <th>Fever</th>\n",
              "      <th>Sore_throat</th>\n",
              "      <th>Shortness_of_breath</th>\n",
              "      <th>Headache</th>\n",
              "      <th>Corona</th>\n",
              "      <th>Age_60_above</th>\n",
              "      <th>Sex</th>\n",
              "      <th>Known_contact</th>\n",
              "    </tr>\n",
              "  </thead>\n",
              "  <tbody>\n",
              "    <tr>\n",
              "      <th>0</th>\n",
              "      <td>1</td>\n",
              "      <td>11-03-2020</td>\n",
              "      <td>TRUE</td>\n",
              "      <td>FALSE</td>\n",
              "      <td>TRUE</td>\n",
              "      <td>FALSE</td>\n",
              "      <td>FALSE</td>\n",
              "      <td>negative</td>\n",
              "      <td>None</td>\n",
              "      <td>None</td>\n",
              "      <td>Abroad</td>\n",
              "    </tr>\n",
              "    <tr>\n",
              "      <th>1</th>\n",
              "      <td>2</td>\n",
              "      <td>11-03-2020</td>\n",
              "      <td>FALSE</td>\n",
              "      <td>TRUE</td>\n",
              "      <td>FALSE</td>\n",
              "      <td>FALSE</td>\n",
              "      <td>FALSE</td>\n",
              "      <td>positive</td>\n",
              "      <td>None</td>\n",
              "      <td>None</td>\n",
              "      <td>Abroad</td>\n",
              "    </tr>\n",
              "    <tr>\n",
              "      <th>2</th>\n",
              "      <td>3</td>\n",
              "      <td>11-03-2020</td>\n",
              "      <td>FALSE</td>\n",
              "      <td>TRUE</td>\n",
              "      <td>FALSE</td>\n",
              "      <td>FALSE</td>\n",
              "      <td>FALSE</td>\n",
              "      <td>positive</td>\n",
              "      <td>None</td>\n",
              "      <td>None</td>\n",
              "      <td>Abroad</td>\n",
              "    </tr>\n",
              "    <tr>\n",
              "      <th>3</th>\n",
              "      <td>4</td>\n",
              "      <td>11-03-2020</td>\n",
              "      <td>TRUE</td>\n",
              "      <td>FALSE</td>\n",
              "      <td>FALSE</td>\n",
              "      <td>FALSE</td>\n",
              "      <td>FALSE</td>\n",
              "      <td>negative</td>\n",
              "      <td>None</td>\n",
              "      <td>None</td>\n",
              "      <td>Abroad</td>\n",
              "    </tr>\n",
              "    <tr>\n",
              "      <th>4</th>\n",
              "      <td>5</td>\n",
              "      <td>11-03-2020</td>\n",
              "      <td>TRUE</td>\n",
              "      <td>FALSE</td>\n",
              "      <td>FALSE</td>\n",
              "      <td>FALSE</td>\n",
              "      <td>FALSE</td>\n",
              "      <td>negative</td>\n",
              "      <td>None</td>\n",
              "      <td>None</td>\n",
              "      <td>Contact with confirmed</td>\n",
              "    </tr>\n",
              "  </tbody>\n",
              "</table>\n",
              "</div>\n",
              "    <div class=\"colab-df-buttons\">\n",
              "\n",
              "  <div class=\"colab-df-container\">\n",
              "    <button class=\"colab-df-convert\" onclick=\"convertToInteractive('df-9a62942b-51db-433c-8a72-69548fb2fda3')\"\n",
              "            title=\"Convert this dataframe to an interactive table.\"\n",
              "            style=\"display:none;\">\n",
              "\n",
              "  <svg xmlns=\"http://www.w3.org/2000/svg\" height=\"24px\" viewBox=\"0 -960 960 960\">\n",
              "    <path d=\"M120-120v-720h720v720H120Zm60-500h600v-160H180v160Zm220 220h160v-160H400v160Zm0 220h160v-160H400v160ZM180-400h160v-160H180v160Zm440 0h160v-160H620v160ZM180-180h160v-160H180v160Zm440 0h160v-160H620v160Z\"/>\n",
              "  </svg>\n",
              "    </button>\n",
              "\n",
              "  <style>\n",
              "    .colab-df-container {\n",
              "      display:flex;\n",
              "      gap: 12px;\n",
              "    }\n",
              "\n",
              "    .colab-df-convert {\n",
              "      background-color: #E8F0FE;\n",
              "      border: none;\n",
              "      border-radius: 50%;\n",
              "      cursor: pointer;\n",
              "      display: none;\n",
              "      fill: #1967D2;\n",
              "      height: 32px;\n",
              "      padding: 0 0 0 0;\n",
              "      width: 32px;\n",
              "    }\n",
              "\n",
              "    .colab-df-convert:hover {\n",
              "      background-color: #E2EBFA;\n",
              "      box-shadow: 0px 1px 2px rgba(60, 64, 67, 0.3), 0px 1px 3px 1px rgba(60, 64, 67, 0.15);\n",
              "      fill: #174EA6;\n",
              "    }\n",
              "\n",
              "    .colab-df-buttons div {\n",
              "      margin-bottom: 4px;\n",
              "    }\n",
              "\n",
              "    [theme=dark] .colab-df-convert {\n",
              "      background-color: #3B4455;\n",
              "      fill: #D2E3FC;\n",
              "    }\n",
              "\n",
              "    [theme=dark] .colab-df-convert:hover {\n",
              "      background-color: #434B5C;\n",
              "      box-shadow: 0px 1px 3px 1px rgba(0, 0, 0, 0.15);\n",
              "      filter: drop-shadow(0px 1px 2px rgba(0, 0, 0, 0.3));\n",
              "      fill: #FFFFFF;\n",
              "    }\n",
              "  </style>\n",
              "\n",
              "    <script>\n",
              "      const buttonEl =\n",
              "        document.querySelector('#df-9a62942b-51db-433c-8a72-69548fb2fda3 button.colab-df-convert');\n",
              "      buttonEl.style.display =\n",
              "        google.colab.kernel.accessAllowed ? 'block' : 'none';\n",
              "\n",
              "      async function convertToInteractive(key) {\n",
              "        const element = document.querySelector('#df-9a62942b-51db-433c-8a72-69548fb2fda3');\n",
              "        const dataTable =\n",
              "          await google.colab.kernel.invokeFunction('convertToInteractive',\n",
              "                                                    [key], {});\n",
              "        if (!dataTable) return;\n",
              "\n",
              "        const docLinkHtml = 'Like what you see? Visit the ' +\n",
              "          '<a target=\"_blank\" href=https://colab.research.google.com/notebooks/data_table.ipynb>data table notebook</a>'\n",
              "          + ' to learn more about interactive tables.';\n",
              "        element.innerHTML = '';\n",
              "        dataTable['output_type'] = 'display_data';\n",
              "        await google.colab.output.renderOutput(dataTable, element);\n",
              "        const docLink = document.createElement('div');\n",
              "        docLink.innerHTML = docLinkHtml;\n",
              "        element.appendChild(docLink);\n",
              "      }\n",
              "    </script>\n",
              "  </div>\n",
              "\n",
              "\n",
              "<div id=\"df-b7a5aec2-0c3f-416c-ab93-ede170e6f88a\">\n",
              "  <button class=\"colab-df-quickchart\" onclick=\"quickchart('df-b7a5aec2-0c3f-416c-ab93-ede170e6f88a')\"\n",
              "            title=\"Suggest charts\"\n",
              "            style=\"display:none;\">\n",
              "\n",
              "<svg xmlns=\"http://www.w3.org/2000/svg\" height=\"24px\"viewBox=\"0 0 24 24\"\n",
              "     width=\"24px\">\n",
              "    <g>\n",
              "        <path d=\"M19 3H5c-1.1 0-2 .9-2 2v14c0 1.1.9 2 2 2h14c1.1 0 2-.9 2-2V5c0-1.1-.9-2-2-2zM9 17H7v-7h2v7zm4 0h-2V7h2v10zm4 0h-2v-4h2v4z\"/>\n",
              "    </g>\n",
              "</svg>\n",
              "  </button>\n",
              "\n",
              "<style>\n",
              "  .colab-df-quickchart {\n",
              "      --bg-color: #E8F0FE;\n",
              "      --fill-color: #1967D2;\n",
              "      --hover-bg-color: #E2EBFA;\n",
              "      --hover-fill-color: #174EA6;\n",
              "      --disabled-fill-color: #AAA;\n",
              "      --disabled-bg-color: #DDD;\n",
              "  }\n",
              "\n",
              "  [theme=dark] .colab-df-quickchart {\n",
              "      --bg-color: #3B4455;\n",
              "      --fill-color: #D2E3FC;\n",
              "      --hover-bg-color: #434B5C;\n",
              "      --hover-fill-color: #FFFFFF;\n",
              "      --disabled-bg-color: #3B4455;\n",
              "      --disabled-fill-color: #666;\n",
              "  }\n",
              "\n",
              "  .colab-df-quickchart {\n",
              "    background-color: var(--bg-color);\n",
              "    border: none;\n",
              "    border-radius: 50%;\n",
              "    cursor: pointer;\n",
              "    display: none;\n",
              "    fill: var(--fill-color);\n",
              "    height: 32px;\n",
              "    padding: 0;\n",
              "    width: 32px;\n",
              "  }\n",
              "\n",
              "  .colab-df-quickchart:hover {\n",
              "    background-color: var(--hover-bg-color);\n",
              "    box-shadow: 0 1px 2px rgba(60, 64, 67, 0.3), 0 1px 3px 1px rgba(60, 64, 67, 0.15);\n",
              "    fill: var(--button-hover-fill-color);\n",
              "  }\n",
              "\n",
              "  .colab-df-quickchart-complete:disabled,\n",
              "  .colab-df-quickchart-complete:disabled:hover {\n",
              "    background-color: var(--disabled-bg-color);\n",
              "    fill: var(--disabled-fill-color);\n",
              "    box-shadow: none;\n",
              "  }\n",
              "\n",
              "  .colab-df-spinner {\n",
              "    border: 2px solid var(--fill-color);\n",
              "    border-color: transparent;\n",
              "    border-bottom-color: var(--fill-color);\n",
              "    animation:\n",
              "      spin 1s steps(1) infinite;\n",
              "  }\n",
              "\n",
              "  @keyframes spin {\n",
              "    0% {\n",
              "      border-color: transparent;\n",
              "      border-bottom-color: var(--fill-color);\n",
              "      border-left-color: var(--fill-color);\n",
              "    }\n",
              "    20% {\n",
              "      border-color: transparent;\n",
              "      border-left-color: var(--fill-color);\n",
              "      border-top-color: var(--fill-color);\n",
              "    }\n",
              "    30% {\n",
              "      border-color: transparent;\n",
              "      border-left-color: var(--fill-color);\n",
              "      border-top-color: var(--fill-color);\n",
              "      border-right-color: var(--fill-color);\n",
              "    }\n",
              "    40% {\n",
              "      border-color: transparent;\n",
              "      border-right-color: var(--fill-color);\n",
              "      border-top-color: var(--fill-color);\n",
              "    }\n",
              "    60% {\n",
              "      border-color: transparent;\n",
              "      border-right-color: var(--fill-color);\n",
              "    }\n",
              "    80% {\n",
              "      border-color: transparent;\n",
              "      border-right-color: var(--fill-color);\n",
              "      border-bottom-color: var(--fill-color);\n",
              "    }\n",
              "    90% {\n",
              "      border-color: transparent;\n",
              "      border-bottom-color: var(--fill-color);\n",
              "    }\n",
              "  }\n",
              "</style>\n",
              "\n",
              "  <script>\n",
              "    async function quickchart(key) {\n",
              "      const quickchartButtonEl =\n",
              "        document.querySelector('#' + key + ' button');\n",
              "      quickchartButtonEl.disabled = true;  // To prevent multiple clicks.\n",
              "      quickchartButtonEl.classList.add('colab-df-spinner');\n",
              "      try {\n",
              "        const charts = await google.colab.kernel.invokeFunction(\n",
              "            'suggestCharts', [key], {});\n",
              "      } catch (error) {\n",
              "        console.error('Error during call to suggestCharts:', error);\n",
              "      }\n",
              "      quickchartButtonEl.classList.remove('colab-df-spinner');\n",
              "      quickchartButtonEl.classList.add('colab-df-quickchart-complete');\n",
              "    }\n",
              "    (() => {\n",
              "      let quickchartButtonEl =\n",
              "        document.querySelector('#df-b7a5aec2-0c3f-416c-ab93-ede170e6f88a button');\n",
              "      quickchartButtonEl.style.display =\n",
              "        google.colab.kernel.accessAllowed ? 'block' : 'none';\n",
              "    })();\n",
              "  </script>\n",
              "</div>\n",
              "\n",
              "    </div>\n",
              "  </div>\n"
            ]
          },
          "metadata": {},
          "execution_count": 73
        }
      ]
    },
    {
      "cell_type": "markdown",
      "source": [
        "**Null hypothesis 1: 'Cough_symptoms', 'Fever', 'Headache' are more common among COVID positive patients.**\n",
        "\n",
        "**2 : XG Boost is going to work better than other algorithms for this dataset**"
      ],
      "metadata": {
        "id": "g_v0YdcsQW84"
      }
    },
    {
      "cell_type": "code",
      "source": [
        "df.tail()                              # it gives last 5 rows of dataset"
      ],
      "metadata": {
        "colab": {
          "base_uri": "https://localhost:8080/",
          "height": 206
        },
        "id": "STJM-fRhhiWa",
        "outputId": "4bfd3638-975d-44da-a38a-6a8c33cdb74f"
      },
      "execution_count": null,
      "outputs": [
        {
          "output_type": "execute_result",
          "data": {
            "text/plain": [
              "        Ind_ID   Test_date Cough_symptoms  Fever Sore_throat  \\\n",
              "278843  278844  30-04-2020          False  False       False   \n",
              "278844  278845  30-04-2020          False  False       False   \n",
              "278845  278846  30-04-2020          False  False       False   \n",
              "278846  278847  30-04-2020          False  False       False   \n",
              "278847  278848  30-04-2020          False  False       False   \n",
              "\n",
              "       Shortness_of_breath Headache    Corona Age_60_above     Sex  \\\n",
              "278843               False    False  positive         None    male   \n",
              "278844               False    False  negative         None  female   \n",
              "278845               False    False  negative         None    male   \n",
              "278846               False    False  negative         None    male   \n",
              "278847               False    False  negative         None  female   \n",
              "\n",
              "       Known_contact  \n",
              "278843         Other  \n",
              "278844         Other  \n",
              "278845         Other  \n",
              "278846         Other  \n",
              "278847         Other  "
            ],
            "text/html": [
              "\n",
              "  <div id=\"df-2d087665-186e-4cf2-8e75-c254a4a1cedd\" class=\"colab-df-container\">\n",
              "    <div>\n",
              "<style scoped>\n",
              "    .dataframe tbody tr th:only-of-type {\n",
              "        vertical-align: middle;\n",
              "    }\n",
              "\n",
              "    .dataframe tbody tr th {\n",
              "        vertical-align: top;\n",
              "    }\n",
              "\n",
              "    .dataframe thead th {\n",
              "        text-align: right;\n",
              "    }\n",
              "</style>\n",
              "<table border=\"1\" class=\"dataframe\">\n",
              "  <thead>\n",
              "    <tr style=\"text-align: right;\">\n",
              "      <th></th>\n",
              "      <th>Ind_ID</th>\n",
              "      <th>Test_date</th>\n",
              "      <th>Cough_symptoms</th>\n",
              "      <th>Fever</th>\n",
              "      <th>Sore_throat</th>\n",
              "      <th>Shortness_of_breath</th>\n",
              "      <th>Headache</th>\n",
              "      <th>Corona</th>\n",
              "      <th>Age_60_above</th>\n",
              "      <th>Sex</th>\n",
              "      <th>Known_contact</th>\n",
              "    </tr>\n",
              "  </thead>\n",
              "  <tbody>\n",
              "    <tr>\n",
              "      <th>278843</th>\n",
              "      <td>278844</td>\n",
              "      <td>30-04-2020</td>\n",
              "      <td>False</td>\n",
              "      <td>False</td>\n",
              "      <td>False</td>\n",
              "      <td>False</td>\n",
              "      <td>False</td>\n",
              "      <td>positive</td>\n",
              "      <td>None</td>\n",
              "      <td>male</td>\n",
              "      <td>Other</td>\n",
              "    </tr>\n",
              "    <tr>\n",
              "      <th>278844</th>\n",
              "      <td>278845</td>\n",
              "      <td>30-04-2020</td>\n",
              "      <td>False</td>\n",
              "      <td>False</td>\n",
              "      <td>False</td>\n",
              "      <td>False</td>\n",
              "      <td>False</td>\n",
              "      <td>negative</td>\n",
              "      <td>None</td>\n",
              "      <td>female</td>\n",
              "      <td>Other</td>\n",
              "    </tr>\n",
              "    <tr>\n",
              "      <th>278845</th>\n",
              "      <td>278846</td>\n",
              "      <td>30-04-2020</td>\n",
              "      <td>False</td>\n",
              "      <td>False</td>\n",
              "      <td>False</td>\n",
              "      <td>False</td>\n",
              "      <td>False</td>\n",
              "      <td>negative</td>\n",
              "      <td>None</td>\n",
              "      <td>male</td>\n",
              "      <td>Other</td>\n",
              "    </tr>\n",
              "    <tr>\n",
              "      <th>278846</th>\n",
              "      <td>278847</td>\n",
              "      <td>30-04-2020</td>\n",
              "      <td>False</td>\n",
              "      <td>False</td>\n",
              "      <td>False</td>\n",
              "      <td>False</td>\n",
              "      <td>False</td>\n",
              "      <td>negative</td>\n",
              "      <td>None</td>\n",
              "      <td>male</td>\n",
              "      <td>Other</td>\n",
              "    </tr>\n",
              "    <tr>\n",
              "      <th>278847</th>\n",
              "      <td>278848</td>\n",
              "      <td>30-04-2020</td>\n",
              "      <td>False</td>\n",
              "      <td>False</td>\n",
              "      <td>False</td>\n",
              "      <td>False</td>\n",
              "      <td>False</td>\n",
              "      <td>negative</td>\n",
              "      <td>None</td>\n",
              "      <td>female</td>\n",
              "      <td>Other</td>\n",
              "    </tr>\n",
              "  </tbody>\n",
              "</table>\n",
              "</div>\n",
              "    <div class=\"colab-df-buttons\">\n",
              "\n",
              "  <div class=\"colab-df-container\">\n",
              "    <button class=\"colab-df-convert\" onclick=\"convertToInteractive('df-2d087665-186e-4cf2-8e75-c254a4a1cedd')\"\n",
              "            title=\"Convert this dataframe to an interactive table.\"\n",
              "            style=\"display:none;\">\n",
              "\n",
              "  <svg xmlns=\"http://www.w3.org/2000/svg\" height=\"24px\" viewBox=\"0 -960 960 960\">\n",
              "    <path d=\"M120-120v-720h720v720H120Zm60-500h600v-160H180v160Zm220 220h160v-160H400v160Zm0 220h160v-160H400v160ZM180-400h160v-160H180v160Zm440 0h160v-160H620v160ZM180-180h160v-160H180v160Zm440 0h160v-160H620v160Z\"/>\n",
              "  </svg>\n",
              "    </button>\n",
              "\n",
              "  <style>\n",
              "    .colab-df-container {\n",
              "      display:flex;\n",
              "      gap: 12px;\n",
              "    }\n",
              "\n",
              "    .colab-df-convert {\n",
              "      background-color: #E8F0FE;\n",
              "      border: none;\n",
              "      border-radius: 50%;\n",
              "      cursor: pointer;\n",
              "      display: none;\n",
              "      fill: #1967D2;\n",
              "      height: 32px;\n",
              "      padding: 0 0 0 0;\n",
              "      width: 32px;\n",
              "    }\n",
              "\n",
              "    .colab-df-convert:hover {\n",
              "      background-color: #E2EBFA;\n",
              "      box-shadow: 0px 1px 2px rgba(60, 64, 67, 0.3), 0px 1px 3px 1px rgba(60, 64, 67, 0.15);\n",
              "      fill: #174EA6;\n",
              "    }\n",
              "\n",
              "    .colab-df-buttons div {\n",
              "      margin-bottom: 4px;\n",
              "    }\n",
              "\n",
              "    [theme=dark] .colab-df-convert {\n",
              "      background-color: #3B4455;\n",
              "      fill: #D2E3FC;\n",
              "    }\n",
              "\n",
              "    [theme=dark] .colab-df-convert:hover {\n",
              "      background-color: #434B5C;\n",
              "      box-shadow: 0px 1px 3px 1px rgba(0, 0, 0, 0.15);\n",
              "      filter: drop-shadow(0px 1px 2px rgba(0, 0, 0, 0.3));\n",
              "      fill: #FFFFFF;\n",
              "    }\n",
              "  </style>\n",
              "\n",
              "    <script>\n",
              "      const buttonEl =\n",
              "        document.querySelector('#df-2d087665-186e-4cf2-8e75-c254a4a1cedd button.colab-df-convert');\n",
              "      buttonEl.style.display =\n",
              "        google.colab.kernel.accessAllowed ? 'block' : 'none';\n",
              "\n",
              "      async function convertToInteractive(key) {\n",
              "        const element = document.querySelector('#df-2d087665-186e-4cf2-8e75-c254a4a1cedd');\n",
              "        const dataTable =\n",
              "          await google.colab.kernel.invokeFunction('convertToInteractive',\n",
              "                                                    [key], {});\n",
              "        if (!dataTable) return;\n",
              "\n",
              "        const docLinkHtml = 'Like what you see? Visit the ' +\n",
              "          '<a target=\"_blank\" href=https://colab.research.google.com/notebooks/data_table.ipynb>data table notebook</a>'\n",
              "          + ' to learn more about interactive tables.';\n",
              "        element.innerHTML = '';\n",
              "        dataTable['output_type'] = 'display_data';\n",
              "        await google.colab.output.renderOutput(dataTable, element);\n",
              "        const docLink = document.createElement('div');\n",
              "        docLink.innerHTML = docLinkHtml;\n",
              "        element.appendChild(docLink);\n",
              "      }\n",
              "    </script>\n",
              "  </div>\n",
              "\n",
              "\n",
              "<div id=\"df-35d6a19d-2f82-4ef2-987d-8ce93fcd1684\">\n",
              "  <button class=\"colab-df-quickchart\" onclick=\"quickchart('df-35d6a19d-2f82-4ef2-987d-8ce93fcd1684')\"\n",
              "            title=\"Suggest charts\"\n",
              "            style=\"display:none;\">\n",
              "\n",
              "<svg xmlns=\"http://www.w3.org/2000/svg\" height=\"24px\"viewBox=\"0 0 24 24\"\n",
              "     width=\"24px\">\n",
              "    <g>\n",
              "        <path d=\"M19 3H5c-1.1 0-2 .9-2 2v14c0 1.1.9 2 2 2h14c1.1 0 2-.9 2-2V5c0-1.1-.9-2-2-2zM9 17H7v-7h2v7zm4 0h-2V7h2v10zm4 0h-2v-4h2v4z\"/>\n",
              "    </g>\n",
              "</svg>\n",
              "  </button>\n",
              "\n",
              "<style>\n",
              "  .colab-df-quickchart {\n",
              "      --bg-color: #E8F0FE;\n",
              "      --fill-color: #1967D2;\n",
              "      --hover-bg-color: #E2EBFA;\n",
              "      --hover-fill-color: #174EA6;\n",
              "      --disabled-fill-color: #AAA;\n",
              "      --disabled-bg-color: #DDD;\n",
              "  }\n",
              "\n",
              "  [theme=dark] .colab-df-quickchart {\n",
              "      --bg-color: #3B4455;\n",
              "      --fill-color: #D2E3FC;\n",
              "      --hover-bg-color: #434B5C;\n",
              "      --hover-fill-color: #FFFFFF;\n",
              "      --disabled-bg-color: #3B4455;\n",
              "      --disabled-fill-color: #666;\n",
              "  }\n",
              "\n",
              "  .colab-df-quickchart {\n",
              "    background-color: var(--bg-color);\n",
              "    border: none;\n",
              "    border-radius: 50%;\n",
              "    cursor: pointer;\n",
              "    display: none;\n",
              "    fill: var(--fill-color);\n",
              "    height: 32px;\n",
              "    padding: 0;\n",
              "    width: 32px;\n",
              "  }\n",
              "\n",
              "  .colab-df-quickchart:hover {\n",
              "    background-color: var(--hover-bg-color);\n",
              "    box-shadow: 0 1px 2px rgba(60, 64, 67, 0.3), 0 1px 3px 1px rgba(60, 64, 67, 0.15);\n",
              "    fill: var(--button-hover-fill-color);\n",
              "  }\n",
              "\n",
              "  .colab-df-quickchart-complete:disabled,\n",
              "  .colab-df-quickchart-complete:disabled:hover {\n",
              "    background-color: var(--disabled-bg-color);\n",
              "    fill: var(--disabled-fill-color);\n",
              "    box-shadow: none;\n",
              "  }\n",
              "\n",
              "  .colab-df-spinner {\n",
              "    border: 2px solid var(--fill-color);\n",
              "    border-color: transparent;\n",
              "    border-bottom-color: var(--fill-color);\n",
              "    animation:\n",
              "      spin 1s steps(1) infinite;\n",
              "  }\n",
              "\n",
              "  @keyframes spin {\n",
              "    0% {\n",
              "      border-color: transparent;\n",
              "      border-bottom-color: var(--fill-color);\n",
              "      border-left-color: var(--fill-color);\n",
              "    }\n",
              "    20% {\n",
              "      border-color: transparent;\n",
              "      border-left-color: var(--fill-color);\n",
              "      border-top-color: var(--fill-color);\n",
              "    }\n",
              "    30% {\n",
              "      border-color: transparent;\n",
              "      border-left-color: var(--fill-color);\n",
              "      border-top-color: var(--fill-color);\n",
              "      border-right-color: var(--fill-color);\n",
              "    }\n",
              "    40% {\n",
              "      border-color: transparent;\n",
              "      border-right-color: var(--fill-color);\n",
              "      border-top-color: var(--fill-color);\n",
              "    }\n",
              "    60% {\n",
              "      border-color: transparent;\n",
              "      border-right-color: var(--fill-color);\n",
              "    }\n",
              "    80% {\n",
              "      border-color: transparent;\n",
              "      border-right-color: var(--fill-color);\n",
              "      border-bottom-color: var(--fill-color);\n",
              "    }\n",
              "    90% {\n",
              "      border-color: transparent;\n",
              "      border-bottom-color: var(--fill-color);\n",
              "    }\n",
              "  }\n",
              "</style>\n",
              "\n",
              "  <script>\n",
              "    async function quickchart(key) {\n",
              "      const quickchartButtonEl =\n",
              "        document.querySelector('#' + key + ' button');\n",
              "      quickchartButtonEl.disabled = true;  // To prevent multiple clicks.\n",
              "      quickchartButtonEl.classList.add('colab-df-spinner');\n",
              "      try {\n",
              "        const charts = await google.colab.kernel.invokeFunction(\n",
              "            'suggestCharts', [key], {});\n",
              "      } catch (error) {\n",
              "        console.error('Error during call to suggestCharts:', error);\n",
              "      }\n",
              "      quickchartButtonEl.classList.remove('colab-df-spinner');\n",
              "      quickchartButtonEl.classList.add('colab-df-quickchart-complete');\n",
              "    }\n",
              "    (() => {\n",
              "      let quickchartButtonEl =\n",
              "        document.querySelector('#df-35d6a19d-2f82-4ef2-987d-8ce93fcd1684 button');\n",
              "      quickchartButtonEl.style.display =\n",
              "        google.colab.kernel.accessAllowed ? 'block' : 'none';\n",
              "    })();\n",
              "  </script>\n",
              "</div>\n",
              "\n",
              "    </div>\n",
              "  </div>\n"
            ]
          },
          "metadata": {},
          "execution_count": 74
        }
      ]
    },
    {
      "cell_type": "markdown",
      "source": [
        "**now we need to converting the values in specific columns from uppercase to lowercase can helps maintain data integrity, consistency, and usability, making it easier to work with and analyze the dataset effectively.**"
      ],
      "metadata": {
        "id": "AsnCSjBcywqD"
      }
    },
    {
      "cell_type": "code",
      "source": [
        "columns_to_convert = ['Cough_symptoms', 'Fever', 'Sore_throat', 'Shortness_of_breath', 'Headache']\n",
        "df[columns_to_convert] = df[columns_to_convert].apply(lambda x: x.str.lower())\n"
      ],
      "metadata": {
        "id": "25HCfQEAw1mR"
      },
      "execution_count": null,
      "outputs": []
    },
    {
      "cell_type": "code",
      "source": [
        "df.head()   # now we can see that the values of specified columns are converted in to lower case"
      ],
      "metadata": {
        "colab": {
          "base_uri": "https://localhost:8080/",
          "height": 206
        },
        "id": "-LPI8jegxViv",
        "outputId": "64b0d19b-77bc-4920-e1aa-eab7c43620ea"
      },
      "execution_count": null,
      "outputs": [
        {
          "output_type": "execute_result",
          "data": {
            "text/plain": [
              "   Ind_ID   Test_date Cough_symptoms  Fever Sore_throat Shortness_of_breath  \\\n",
              "0       1  11-03-2020           true  false        true               false   \n",
              "1       2  11-03-2020          false   true       false               false   \n",
              "2       3  11-03-2020          false   true       false               false   \n",
              "3       4  11-03-2020           true  false       false               false   \n",
              "4       5  11-03-2020           true  false       false               false   \n",
              "\n",
              "  Headache    Corona Age_60_above   Sex           Known_contact  \n",
              "0    false  negative         None  None                  Abroad  \n",
              "1    false  positive         None  None                  Abroad  \n",
              "2    false  positive         None  None                  Abroad  \n",
              "3    false  negative         None  None                  Abroad  \n",
              "4    false  negative         None  None  Contact with confirmed  "
            ],
            "text/html": [
              "\n",
              "  <div id=\"df-a7e6b4d4-ece9-4ccd-87b8-7048db7b7ade\" class=\"colab-df-container\">\n",
              "    <div>\n",
              "<style scoped>\n",
              "    .dataframe tbody tr th:only-of-type {\n",
              "        vertical-align: middle;\n",
              "    }\n",
              "\n",
              "    .dataframe tbody tr th {\n",
              "        vertical-align: top;\n",
              "    }\n",
              "\n",
              "    .dataframe thead th {\n",
              "        text-align: right;\n",
              "    }\n",
              "</style>\n",
              "<table border=\"1\" class=\"dataframe\">\n",
              "  <thead>\n",
              "    <tr style=\"text-align: right;\">\n",
              "      <th></th>\n",
              "      <th>Ind_ID</th>\n",
              "      <th>Test_date</th>\n",
              "      <th>Cough_symptoms</th>\n",
              "      <th>Fever</th>\n",
              "      <th>Sore_throat</th>\n",
              "      <th>Shortness_of_breath</th>\n",
              "      <th>Headache</th>\n",
              "      <th>Corona</th>\n",
              "      <th>Age_60_above</th>\n",
              "      <th>Sex</th>\n",
              "      <th>Known_contact</th>\n",
              "    </tr>\n",
              "  </thead>\n",
              "  <tbody>\n",
              "    <tr>\n",
              "      <th>0</th>\n",
              "      <td>1</td>\n",
              "      <td>11-03-2020</td>\n",
              "      <td>true</td>\n",
              "      <td>false</td>\n",
              "      <td>true</td>\n",
              "      <td>false</td>\n",
              "      <td>false</td>\n",
              "      <td>negative</td>\n",
              "      <td>None</td>\n",
              "      <td>None</td>\n",
              "      <td>Abroad</td>\n",
              "    </tr>\n",
              "    <tr>\n",
              "      <th>1</th>\n",
              "      <td>2</td>\n",
              "      <td>11-03-2020</td>\n",
              "      <td>false</td>\n",
              "      <td>true</td>\n",
              "      <td>false</td>\n",
              "      <td>false</td>\n",
              "      <td>false</td>\n",
              "      <td>positive</td>\n",
              "      <td>None</td>\n",
              "      <td>None</td>\n",
              "      <td>Abroad</td>\n",
              "    </tr>\n",
              "    <tr>\n",
              "      <th>2</th>\n",
              "      <td>3</td>\n",
              "      <td>11-03-2020</td>\n",
              "      <td>false</td>\n",
              "      <td>true</td>\n",
              "      <td>false</td>\n",
              "      <td>false</td>\n",
              "      <td>false</td>\n",
              "      <td>positive</td>\n",
              "      <td>None</td>\n",
              "      <td>None</td>\n",
              "      <td>Abroad</td>\n",
              "    </tr>\n",
              "    <tr>\n",
              "      <th>3</th>\n",
              "      <td>4</td>\n",
              "      <td>11-03-2020</td>\n",
              "      <td>true</td>\n",
              "      <td>false</td>\n",
              "      <td>false</td>\n",
              "      <td>false</td>\n",
              "      <td>false</td>\n",
              "      <td>negative</td>\n",
              "      <td>None</td>\n",
              "      <td>None</td>\n",
              "      <td>Abroad</td>\n",
              "    </tr>\n",
              "    <tr>\n",
              "      <th>4</th>\n",
              "      <td>5</td>\n",
              "      <td>11-03-2020</td>\n",
              "      <td>true</td>\n",
              "      <td>false</td>\n",
              "      <td>false</td>\n",
              "      <td>false</td>\n",
              "      <td>false</td>\n",
              "      <td>negative</td>\n",
              "      <td>None</td>\n",
              "      <td>None</td>\n",
              "      <td>Contact with confirmed</td>\n",
              "    </tr>\n",
              "  </tbody>\n",
              "</table>\n",
              "</div>\n",
              "    <div class=\"colab-df-buttons\">\n",
              "\n",
              "  <div class=\"colab-df-container\">\n",
              "    <button class=\"colab-df-convert\" onclick=\"convertToInteractive('df-a7e6b4d4-ece9-4ccd-87b8-7048db7b7ade')\"\n",
              "            title=\"Convert this dataframe to an interactive table.\"\n",
              "            style=\"display:none;\">\n",
              "\n",
              "  <svg xmlns=\"http://www.w3.org/2000/svg\" height=\"24px\" viewBox=\"0 -960 960 960\">\n",
              "    <path d=\"M120-120v-720h720v720H120Zm60-500h600v-160H180v160Zm220 220h160v-160H400v160Zm0 220h160v-160H400v160ZM180-400h160v-160H180v160Zm440 0h160v-160H620v160ZM180-180h160v-160H180v160Zm440 0h160v-160H620v160Z\"/>\n",
              "  </svg>\n",
              "    </button>\n",
              "\n",
              "  <style>\n",
              "    .colab-df-container {\n",
              "      display:flex;\n",
              "      gap: 12px;\n",
              "    }\n",
              "\n",
              "    .colab-df-convert {\n",
              "      background-color: #E8F0FE;\n",
              "      border: none;\n",
              "      border-radius: 50%;\n",
              "      cursor: pointer;\n",
              "      display: none;\n",
              "      fill: #1967D2;\n",
              "      height: 32px;\n",
              "      padding: 0 0 0 0;\n",
              "      width: 32px;\n",
              "    }\n",
              "\n",
              "    .colab-df-convert:hover {\n",
              "      background-color: #E2EBFA;\n",
              "      box-shadow: 0px 1px 2px rgba(60, 64, 67, 0.3), 0px 1px 3px 1px rgba(60, 64, 67, 0.15);\n",
              "      fill: #174EA6;\n",
              "    }\n",
              "\n",
              "    .colab-df-buttons div {\n",
              "      margin-bottom: 4px;\n",
              "    }\n",
              "\n",
              "    [theme=dark] .colab-df-convert {\n",
              "      background-color: #3B4455;\n",
              "      fill: #D2E3FC;\n",
              "    }\n",
              "\n",
              "    [theme=dark] .colab-df-convert:hover {\n",
              "      background-color: #434B5C;\n",
              "      box-shadow: 0px 1px 3px 1px rgba(0, 0, 0, 0.15);\n",
              "      filter: drop-shadow(0px 1px 2px rgba(0, 0, 0, 0.3));\n",
              "      fill: #FFFFFF;\n",
              "    }\n",
              "  </style>\n",
              "\n",
              "    <script>\n",
              "      const buttonEl =\n",
              "        document.querySelector('#df-a7e6b4d4-ece9-4ccd-87b8-7048db7b7ade button.colab-df-convert');\n",
              "      buttonEl.style.display =\n",
              "        google.colab.kernel.accessAllowed ? 'block' : 'none';\n",
              "\n",
              "      async function convertToInteractive(key) {\n",
              "        const element = document.querySelector('#df-a7e6b4d4-ece9-4ccd-87b8-7048db7b7ade');\n",
              "        const dataTable =\n",
              "          await google.colab.kernel.invokeFunction('convertToInteractive',\n",
              "                                                    [key], {});\n",
              "        if (!dataTable) return;\n",
              "\n",
              "        const docLinkHtml = 'Like what you see? Visit the ' +\n",
              "          '<a target=\"_blank\" href=https://colab.research.google.com/notebooks/data_table.ipynb>data table notebook</a>'\n",
              "          + ' to learn more about interactive tables.';\n",
              "        element.innerHTML = '';\n",
              "        dataTable['output_type'] = 'display_data';\n",
              "        await google.colab.output.renderOutput(dataTable, element);\n",
              "        const docLink = document.createElement('div');\n",
              "        docLink.innerHTML = docLinkHtml;\n",
              "        element.appendChild(docLink);\n",
              "      }\n",
              "    </script>\n",
              "  </div>\n",
              "\n",
              "\n",
              "<div id=\"df-faff92f9-4055-41bd-8c2f-0bee8a70b3f7\">\n",
              "  <button class=\"colab-df-quickchart\" onclick=\"quickchart('df-faff92f9-4055-41bd-8c2f-0bee8a70b3f7')\"\n",
              "            title=\"Suggest charts\"\n",
              "            style=\"display:none;\">\n",
              "\n",
              "<svg xmlns=\"http://www.w3.org/2000/svg\" height=\"24px\"viewBox=\"0 0 24 24\"\n",
              "     width=\"24px\">\n",
              "    <g>\n",
              "        <path d=\"M19 3H5c-1.1 0-2 .9-2 2v14c0 1.1.9 2 2 2h14c1.1 0 2-.9 2-2V5c0-1.1-.9-2-2-2zM9 17H7v-7h2v7zm4 0h-2V7h2v10zm4 0h-2v-4h2v4z\"/>\n",
              "    </g>\n",
              "</svg>\n",
              "  </button>\n",
              "\n",
              "<style>\n",
              "  .colab-df-quickchart {\n",
              "      --bg-color: #E8F0FE;\n",
              "      --fill-color: #1967D2;\n",
              "      --hover-bg-color: #E2EBFA;\n",
              "      --hover-fill-color: #174EA6;\n",
              "      --disabled-fill-color: #AAA;\n",
              "      --disabled-bg-color: #DDD;\n",
              "  }\n",
              "\n",
              "  [theme=dark] .colab-df-quickchart {\n",
              "      --bg-color: #3B4455;\n",
              "      --fill-color: #D2E3FC;\n",
              "      --hover-bg-color: #434B5C;\n",
              "      --hover-fill-color: #FFFFFF;\n",
              "      --disabled-bg-color: #3B4455;\n",
              "      --disabled-fill-color: #666;\n",
              "  }\n",
              "\n",
              "  .colab-df-quickchart {\n",
              "    background-color: var(--bg-color);\n",
              "    border: none;\n",
              "    border-radius: 50%;\n",
              "    cursor: pointer;\n",
              "    display: none;\n",
              "    fill: var(--fill-color);\n",
              "    height: 32px;\n",
              "    padding: 0;\n",
              "    width: 32px;\n",
              "  }\n",
              "\n",
              "  .colab-df-quickchart:hover {\n",
              "    background-color: var(--hover-bg-color);\n",
              "    box-shadow: 0 1px 2px rgba(60, 64, 67, 0.3), 0 1px 3px 1px rgba(60, 64, 67, 0.15);\n",
              "    fill: var(--button-hover-fill-color);\n",
              "  }\n",
              "\n",
              "  .colab-df-quickchart-complete:disabled,\n",
              "  .colab-df-quickchart-complete:disabled:hover {\n",
              "    background-color: var(--disabled-bg-color);\n",
              "    fill: var(--disabled-fill-color);\n",
              "    box-shadow: none;\n",
              "  }\n",
              "\n",
              "  .colab-df-spinner {\n",
              "    border: 2px solid var(--fill-color);\n",
              "    border-color: transparent;\n",
              "    border-bottom-color: var(--fill-color);\n",
              "    animation:\n",
              "      spin 1s steps(1) infinite;\n",
              "  }\n",
              "\n",
              "  @keyframes spin {\n",
              "    0% {\n",
              "      border-color: transparent;\n",
              "      border-bottom-color: var(--fill-color);\n",
              "      border-left-color: var(--fill-color);\n",
              "    }\n",
              "    20% {\n",
              "      border-color: transparent;\n",
              "      border-left-color: var(--fill-color);\n",
              "      border-top-color: var(--fill-color);\n",
              "    }\n",
              "    30% {\n",
              "      border-color: transparent;\n",
              "      border-left-color: var(--fill-color);\n",
              "      border-top-color: var(--fill-color);\n",
              "      border-right-color: var(--fill-color);\n",
              "    }\n",
              "    40% {\n",
              "      border-color: transparent;\n",
              "      border-right-color: var(--fill-color);\n",
              "      border-top-color: var(--fill-color);\n",
              "    }\n",
              "    60% {\n",
              "      border-color: transparent;\n",
              "      border-right-color: var(--fill-color);\n",
              "    }\n",
              "    80% {\n",
              "      border-color: transparent;\n",
              "      border-right-color: var(--fill-color);\n",
              "      border-bottom-color: var(--fill-color);\n",
              "    }\n",
              "    90% {\n",
              "      border-color: transparent;\n",
              "      border-bottom-color: var(--fill-color);\n",
              "    }\n",
              "  }\n",
              "</style>\n",
              "\n",
              "  <script>\n",
              "    async function quickchart(key) {\n",
              "      const quickchartButtonEl =\n",
              "        document.querySelector('#' + key + ' button');\n",
              "      quickchartButtonEl.disabled = true;  // To prevent multiple clicks.\n",
              "      quickchartButtonEl.classList.add('colab-df-spinner');\n",
              "      try {\n",
              "        const charts = await google.colab.kernel.invokeFunction(\n",
              "            'suggestCharts', [key], {});\n",
              "      } catch (error) {\n",
              "        console.error('Error during call to suggestCharts:', error);\n",
              "      }\n",
              "      quickchartButtonEl.classList.remove('colab-df-spinner');\n",
              "      quickchartButtonEl.classList.add('colab-df-quickchart-complete');\n",
              "    }\n",
              "    (() => {\n",
              "      let quickchartButtonEl =\n",
              "        document.querySelector('#df-faff92f9-4055-41bd-8c2f-0bee8a70b3f7 button');\n",
              "      quickchartButtonEl.style.display =\n",
              "        google.colab.kernel.accessAllowed ? 'block' : 'none';\n",
              "    })();\n",
              "  </script>\n",
              "</div>\n",
              "\n",
              "    </div>\n",
              "  </div>\n"
            ]
          },
          "metadata": {},
          "execution_count": 76
        }
      ]
    },
    {
      "cell_type": "code",
      "source": [
        "df.shape                              # it gives number of rows and columns"
      ],
      "metadata": {
        "colab": {
          "base_uri": "https://localhost:8080/"
        },
        "id": "A8anSLwqxZj2",
        "outputId": "1ee75331-1872-4d11-9b26-1b61911c7296"
      },
      "execution_count": null,
      "outputs": [
        {
          "output_type": "execute_result",
          "data": {
            "text/plain": [
              "(278848, 11)"
            ]
          },
          "metadata": {},
          "execution_count": 77
        }
      ]
    },
    {
      "cell_type": "code",
      "source": [
        "df1 = pd.DataFrame(df)\n",
        "df.columns                             # it give list of column names"
      ],
      "metadata": {
        "colab": {
          "base_uri": "https://localhost:8080/"
        },
        "id": "9E7biJwuztGs",
        "outputId": "2344ea9d-ab8b-4b1b-e8eb-c7b983b750e7"
      },
      "execution_count": null,
      "outputs": [
        {
          "output_type": "execute_result",
          "data": {
            "text/plain": [
              "Index(['Ind_ID', 'Test_date', 'Cough_symptoms', 'Fever', 'Sore_throat',\n",
              "       'Shortness_of_breath', 'Headache', 'Corona', 'Age_60_above', 'Sex',\n",
              "       'Known_contact'],\n",
              "      dtype='object')"
            ]
          },
          "metadata": {},
          "execution_count": 78
        }
      ]
    },
    {
      "cell_type": "code",
      "source": [
        "df.info()                            # it gives data type and non_null count of each column"
      ],
      "metadata": {
        "colab": {
          "base_uri": "https://localhost:8080/"
        },
        "id": "Gs774Mx100si",
        "outputId": "c8d77109-89ee-4645-f236-8bc4f676fd09"
      },
      "execution_count": null,
      "outputs": [
        {
          "output_type": "stream",
          "name": "stdout",
          "text": [
            "<class 'pandas.core.frame.DataFrame'>\n",
            "RangeIndex: 278848 entries, 0 to 278847\n",
            "Data columns (total 11 columns):\n",
            " #   Column               Non-Null Count   Dtype \n",
            "---  ------               --------------   ----- \n",
            " 0   Ind_ID               278848 non-null  int64 \n",
            " 1   Test_date            278848 non-null  object\n",
            " 2   Cough_symptoms       131072 non-null  object\n",
            " 3   Fever                131072 non-null  object\n",
            " 4   Sore_throat          65536 non-null   object\n",
            " 5   Shortness_of_breath  65536 non-null   object\n",
            " 6   Headache             65536 non-null   object\n",
            " 7   Corona               278848 non-null  object\n",
            " 8   Age_60_above         278848 non-null  object\n",
            " 9   Sex                  278848 non-null  object\n",
            " 10  Known_contact        278848 non-null  object\n",
            "dtypes: int64(1), object(10)\n",
            "memory usage: 23.4+ MB\n"
          ]
        }
      ]
    },
    {
      "cell_type": "code",
      "source": [
        "df.describe()                   # it give statistical information about numerical values"
      ],
      "metadata": {
        "colab": {
          "base_uri": "https://localhost:8080/",
          "height": 300
        },
        "id": "aK3K4q7d1AoU",
        "outputId": "7d5a8f97-1c1d-468d-a1ec-fc421f2b389c"
      },
      "execution_count": null,
      "outputs": [
        {
          "output_type": "execute_result",
          "data": {
            "text/plain": [
              "              Ind_ID\n",
              "count  278848.000000\n",
              "mean   139424.500000\n",
              "std     80496.628269\n",
              "min         1.000000\n",
              "25%     69712.750000\n",
              "50%    139424.500000\n",
              "75%    209136.250000\n",
              "max    278848.000000"
            ],
            "text/html": [
              "\n",
              "  <div id=\"df-aad18ebc-65d4-4f92-bd98-e2e6d156b65e\" class=\"colab-df-container\">\n",
              "    <div>\n",
              "<style scoped>\n",
              "    .dataframe tbody tr th:only-of-type {\n",
              "        vertical-align: middle;\n",
              "    }\n",
              "\n",
              "    .dataframe tbody tr th {\n",
              "        vertical-align: top;\n",
              "    }\n",
              "\n",
              "    .dataframe thead th {\n",
              "        text-align: right;\n",
              "    }\n",
              "</style>\n",
              "<table border=\"1\" class=\"dataframe\">\n",
              "  <thead>\n",
              "    <tr style=\"text-align: right;\">\n",
              "      <th></th>\n",
              "      <th>Ind_ID</th>\n",
              "    </tr>\n",
              "  </thead>\n",
              "  <tbody>\n",
              "    <tr>\n",
              "      <th>count</th>\n",
              "      <td>278848.000000</td>\n",
              "    </tr>\n",
              "    <tr>\n",
              "      <th>mean</th>\n",
              "      <td>139424.500000</td>\n",
              "    </tr>\n",
              "    <tr>\n",
              "      <th>std</th>\n",
              "      <td>80496.628269</td>\n",
              "    </tr>\n",
              "    <tr>\n",
              "      <th>min</th>\n",
              "      <td>1.000000</td>\n",
              "    </tr>\n",
              "    <tr>\n",
              "      <th>25%</th>\n",
              "      <td>69712.750000</td>\n",
              "    </tr>\n",
              "    <tr>\n",
              "      <th>50%</th>\n",
              "      <td>139424.500000</td>\n",
              "    </tr>\n",
              "    <tr>\n",
              "      <th>75%</th>\n",
              "      <td>209136.250000</td>\n",
              "    </tr>\n",
              "    <tr>\n",
              "      <th>max</th>\n",
              "      <td>278848.000000</td>\n",
              "    </tr>\n",
              "  </tbody>\n",
              "</table>\n",
              "</div>\n",
              "    <div class=\"colab-df-buttons\">\n",
              "\n",
              "  <div class=\"colab-df-container\">\n",
              "    <button class=\"colab-df-convert\" onclick=\"convertToInteractive('df-aad18ebc-65d4-4f92-bd98-e2e6d156b65e')\"\n",
              "            title=\"Convert this dataframe to an interactive table.\"\n",
              "            style=\"display:none;\">\n",
              "\n",
              "  <svg xmlns=\"http://www.w3.org/2000/svg\" height=\"24px\" viewBox=\"0 -960 960 960\">\n",
              "    <path d=\"M120-120v-720h720v720H120Zm60-500h600v-160H180v160Zm220 220h160v-160H400v160Zm0 220h160v-160H400v160ZM180-400h160v-160H180v160Zm440 0h160v-160H620v160ZM180-180h160v-160H180v160Zm440 0h160v-160H620v160Z\"/>\n",
              "  </svg>\n",
              "    </button>\n",
              "\n",
              "  <style>\n",
              "    .colab-df-container {\n",
              "      display:flex;\n",
              "      gap: 12px;\n",
              "    }\n",
              "\n",
              "    .colab-df-convert {\n",
              "      background-color: #E8F0FE;\n",
              "      border: none;\n",
              "      border-radius: 50%;\n",
              "      cursor: pointer;\n",
              "      display: none;\n",
              "      fill: #1967D2;\n",
              "      height: 32px;\n",
              "      padding: 0 0 0 0;\n",
              "      width: 32px;\n",
              "    }\n",
              "\n",
              "    .colab-df-convert:hover {\n",
              "      background-color: #E2EBFA;\n",
              "      box-shadow: 0px 1px 2px rgba(60, 64, 67, 0.3), 0px 1px 3px 1px rgba(60, 64, 67, 0.15);\n",
              "      fill: #174EA6;\n",
              "    }\n",
              "\n",
              "    .colab-df-buttons div {\n",
              "      margin-bottom: 4px;\n",
              "    }\n",
              "\n",
              "    [theme=dark] .colab-df-convert {\n",
              "      background-color: #3B4455;\n",
              "      fill: #D2E3FC;\n",
              "    }\n",
              "\n",
              "    [theme=dark] .colab-df-convert:hover {\n",
              "      background-color: #434B5C;\n",
              "      box-shadow: 0px 1px 3px 1px rgba(0, 0, 0, 0.15);\n",
              "      filter: drop-shadow(0px 1px 2px rgba(0, 0, 0, 0.3));\n",
              "      fill: #FFFFFF;\n",
              "    }\n",
              "  </style>\n",
              "\n",
              "    <script>\n",
              "      const buttonEl =\n",
              "        document.querySelector('#df-aad18ebc-65d4-4f92-bd98-e2e6d156b65e button.colab-df-convert');\n",
              "      buttonEl.style.display =\n",
              "        google.colab.kernel.accessAllowed ? 'block' : 'none';\n",
              "\n",
              "      async function convertToInteractive(key) {\n",
              "        const element = document.querySelector('#df-aad18ebc-65d4-4f92-bd98-e2e6d156b65e');\n",
              "        const dataTable =\n",
              "          await google.colab.kernel.invokeFunction('convertToInteractive',\n",
              "                                                    [key], {});\n",
              "        if (!dataTable) return;\n",
              "\n",
              "        const docLinkHtml = 'Like what you see? Visit the ' +\n",
              "          '<a target=\"_blank\" href=https://colab.research.google.com/notebooks/data_table.ipynb>data table notebook</a>'\n",
              "          + ' to learn more about interactive tables.';\n",
              "        element.innerHTML = '';\n",
              "        dataTable['output_type'] = 'display_data';\n",
              "        await google.colab.output.renderOutput(dataTable, element);\n",
              "        const docLink = document.createElement('div');\n",
              "        docLink.innerHTML = docLinkHtml;\n",
              "        element.appendChild(docLink);\n",
              "      }\n",
              "    </script>\n",
              "  </div>\n",
              "\n",
              "\n",
              "<div id=\"df-4a11cf60-ea71-4997-bc62-dcdec9b1798b\">\n",
              "  <button class=\"colab-df-quickchart\" onclick=\"quickchart('df-4a11cf60-ea71-4997-bc62-dcdec9b1798b')\"\n",
              "            title=\"Suggest charts\"\n",
              "            style=\"display:none;\">\n",
              "\n",
              "<svg xmlns=\"http://www.w3.org/2000/svg\" height=\"24px\"viewBox=\"0 0 24 24\"\n",
              "     width=\"24px\">\n",
              "    <g>\n",
              "        <path d=\"M19 3H5c-1.1 0-2 .9-2 2v14c0 1.1.9 2 2 2h14c1.1 0 2-.9 2-2V5c0-1.1-.9-2-2-2zM9 17H7v-7h2v7zm4 0h-2V7h2v10zm4 0h-2v-4h2v4z\"/>\n",
              "    </g>\n",
              "</svg>\n",
              "  </button>\n",
              "\n",
              "<style>\n",
              "  .colab-df-quickchart {\n",
              "      --bg-color: #E8F0FE;\n",
              "      --fill-color: #1967D2;\n",
              "      --hover-bg-color: #E2EBFA;\n",
              "      --hover-fill-color: #174EA6;\n",
              "      --disabled-fill-color: #AAA;\n",
              "      --disabled-bg-color: #DDD;\n",
              "  }\n",
              "\n",
              "  [theme=dark] .colab-df-quickchart {\n",
              "      --bg-color: #3B4455;\n",
              "      --fill-color: #D2E3FC;\n",
              "      --hover-bg-color: #434B5C;\n",
              "      --hover-fill-color: #FFFFFF;\n",
              "      --disabled-bg-color: #3B4455;\n",
              "      --disabled-fill-color: #666;\n",
              "  }\n",
              "\n",
              "  .colab-df-quickchart {\n",
              "    background-color: var(--bg-color);\n",
              "    border: none;\n",
              "    border-radius: 50%;\n",
              "    cursor: pointer;\n",
              "    display: none;\n",
              "    fill: var(--fill-color);\n",
              "    height: 32px;\n",
              "    padding: 0;\n",
              "    width: 32px;\n",
              "  }\n",
              "\n",
              "  .colab-df-quickchart:hover {\n",
              "    background-color: var(--hover-bg-color);\n",
              "    box-shadow: 0 1px 2px rgba(60, 64, 67, 0.3), 0 1px 3px 1px rgba(60, 64, 67, 0.15);\n",
              "    fill: var(--button-hover-fill-color);\n",
              "  }\n",
              "\n",
              "  .colab-df-quickchart-complete:disabled,\n",
              "  .colab-df-quickchart-complete:disabled:hover {\n",
              "    background-color: var(--disabled-bg-color);\n",
              "    fill: var(--disabled-fill-color);\n",
              "    box-shadow: none;\n",
              "  }\n",
              "\n",
              "  .colab-df-spinner {\n",
              "    border: 2px solid var(--fill-color);\n",
              "    border-color: transparent;\n",
              "    border-bottom-color: var(--fill-color);\n",
              "    animation:\n",
              "      spin 1s steps(1) infinite;\n",
              "  }\n",
              "\n",
              "  @keyframes spin {\n",
              "    0% {\n",
              "      border-color: transparent;\n",
              "      border-bottom-color: var(--fill-color);\n",
              "      border-left-color: var(--fill-color);\n",
              "    }\n",
              "    20% {\n",
              "      border-color: transparent;\n",
              "      border-left-color: var(--fill-color);\n",
              "      border-top-color: var(--fill-color);\n",
              "    }\n",
              "    30% {\n",
              "      border-color: transparent;\n",
              "      border-left-color: var(--fill-color);\n",
              "      border-top-color: var(--fill-color);\n",
              "      border-right-color: var(--fill-color);\n",
              "    }\n",
              "    40% {\n",
              "      border-color: transparent;\n",
              "      border-right-color: var(--fill-color);\n",
              "      border-top-color: var(--fill-color);\n",
              "    }\n",
              "    60% {\n",
              "      border-color: transparent;\n",
              "      border-right-color: var(--fill-color);\n",
              "    }\n",
              "    80% {\n",
              "      border-color: transparent;\n",
              "      border-right-color: var(--fill-color);\n",
              "      border-bottom-color: var(--fill-color);\n",
              "    }\n",
              "    90% {\n",
              "      border-color: transparent;\n",
              "      border-bottom-color: var(--fill-color);\n",
              "    }\n",
              "  }\n",
              "</style>\n",
              "\n",
              "  <script>\n",
              "    async function quickchart(key) {\n",
              "      const quickchartButtonEl =\n",
              "        document.querySelector('#' + key + ' button');\n",
              "      quickchartButtonEl.disabled = true;  // To prevent multiple clicks.\n",
              "      quickchartButtonEl.classList.add('colab-df-spinner');\n",
              "      try {\n",
              "        const charts = await google.colab.kernel.invokeFunction(\n",
              "            'suggestCharts', [key], {});\n",
              "      } catch (error) {\n",
              "        console.error('Error during call to suggestCharts:', error);\n",
              "      }\n",
              "      quickchartButtonEl.classList.remove('colab-df-spinner');\n",
              "      quickchartButtonEl.classList.add('colab-df-quickchart-complete');\n",
              "    }\n",
              "    (() => {\n",
              "      let quickchartButtonEl =\n",
              "        document.querySelector('#df-4a11cf60-ea71-4997-bc62-dcdec9b1798b button');\n",
              "      quickchartButtonEl.style.display =\n",
              "        google.colab.kernel.accessAllowed ? 'block' : 'none';\n",
              "    })();\n",
              "  </script>\n",
              "</div>\n",
              "\n",
              "    </div>\n",
              "  </div>\n"
            ]
          },
          "metadata": {},
          "execution_count": 80
        }
      ]
    },
    {
      "cell_type": "code",
      "source": [
        "df.describe(include=\"O\")                          # it give some information about categorical columns"
      ],
      "metadata": {
        "colab": {
          "base_uri": "https://localhost:8080/",
          "height": 174
        },
        "id": "2X-b2JjF1HIh",
        "outputId": "ed06ecdc-8cec-40f8-8ad1-5a13072066db"
      },
      "execution_count": null,
      "outputs": [
        {
          "output_type": "execute_result",
          "data": {
            "text/plain": [
              "         Test_date Cough_symptoms   Fever Sore_throat Shortness_of_breath  \\\n",
              "count       278848         131072  131072       65536               65536   \n",
              "unique          51              3       3           3                   3   \n",
              "top     20-04-2020          false   false       false               false   \n",
              "freq         10921         108837  119070       64337               64428   \n",
              "\n",
              "       Headache    Corona Age_60_above     Sex Known_contact  \n",
              "count     65536    278848       278848  278848        278848  \n",
              "unique        3         3            3       3             3  \n",
              "top       false  negative         None  female         Other  \n",
              "freq      64107    260227       127320  130158        242741  "
            ],
            "text/html": [
              "\n",
              "  <div id=\"df-29fd6d80-2211-40cf-b030-d42ad2eaa4a6\" class=\"colab-df-container\">\n",
              "    <div>\n",
              "<style scoped>\n",
              "    .dataframe tbody tr th:only-of-type {\n",
              "        vertical-align: middle;\n",
              "    }\n",
              "\n",
              "    .dataframe tbody tr th {\n",
              "        vertical-align: top;\n",
              "    }\n",
              "\n",
              "    .dataframe thead th {\n",
              "        text-align: right;\n",
              "    }\n",
              "</style>\n",
              "<table border=\"1\" class=\"dataframe\">\n",
              "  <thead>\n",
              "    <tr style=\"text-align: right;\">\n",
              "      <th></th>\n",
              "      <th>Test_date</th>\n",
              "      <th>Cough_symptoms</th>\n",
              "      <th>Fever</th>\n",
              "      <th>Sore_throat</th>\n",
              "      <th>Shortness_of_breath</th>\n",
              "      <th>Headache</th>\n",
              "      <th>Corona</th>\n",
              "      <th>Age_60_above</th>\n",
              "      <th>Sex</th>\n",
              "      <th>Known_contact</th>\n",
              "    </tr>\n",
              "  </thead>\n",
              "  <tbody>\n",
              "    <tr>\n",
              "      <th>count</th>\n",
              "      <td>278848</td>\n",
              "      <td>131072</td>\n",
              "      <td>131072</td>\n",
              "      <td>65536</td>\n",
              "      <td>65536</td>\n",
              "      <td>65536</td>\n",
              "      <td>278848</td>\n",
              "      <td>278848</td>\n",
              "      <td>278848</td>\n",
              "      <td>278848</td>\n",
              "    </tr>\n",
              "    <tr>\n",
              "      <th>unique</th>\n",
              "      <td>51</td>\n",
              "      <td>3</td>\n",
              "      <td>3</td>\n",
              "      <td>3</td>\n",
              "      <td>3</td>\n",
              "      <td>3</td>\n",
              "      <td>3</td>\n",
              "      <td>3</td>\n",
              "      <td>3</td>\n",
              "      <td>3</td>\n",
              "    </tr>\n",
              "    <tr>\n",
              "      <th>top</th>\n",
              "      <td>20-04-2020</td>\n",
              "      <td>false</td>\n",
              "      <td>false</td>\n",
              "      <td>false</td>\n",
              "      <td>false</td>\n",
              "      <td>false</td>\n",
              "      <td>negative</td>\n",
              "      <td>None</td>\n",
              "      <td>female</td>\n",
              "      <td>Other</td>\n",
              "    </tr>\n",
              "    <tr>\n",
              "      <th>freq</th>\n",
              "      <td>10921</td>\n",
              "      <td>108837</td>\n",
              "      <td>119070</td>\n",
              "      <td>64337</td>\n",
              "      <td>64428</td>\n",
              "      <td>64107</td>\n",
              "      <td>260227</td>\n",
              "      <td>127320</td>\n",
              "      <td>130158</td>\n",
              "      <td>242741</td>\n",
              "    </tr>\n",
              "  </tbody>\n",
              "</table>\n",
              "</div>\n",
              "    <div class=\"colab-df-buttons\">\n",
              "\n",
              "  <div class=\"colab-df-container\">\n",
              "    <button class=\"colab-df-convert\" onclick=\"convertToInteractive('df-29fd6d80-2211-40cf-b030-d42ad2eaa4a6')\"\n",
              "            title=\"Convert this dataframe to an interactive table.\"\n",
              "            style=\"display:none;\">\n",
              "\n",
              "  <svg xmlns=\"http://www.w3.org/2000/svg\" height=\"24px\" viewBox=\"0 -960 960 960\">\n",
              "    <path d=\"M120-120v-720h720v720H120Zm60-500h600v-160H180v160Zm220 220h160v-160H400v160Zm0 220h160v-160H400v160ZM180-400h160v-160H180v160Zm440 0h160v-160H620v160ZM180-180h160v-160H180v160Zm440 0h160v-160H620v160Z\"/>\n",
              "  </svg>\n",
              "    </button>\n",
              "\n",
              "  <style>\n",
              "    .colab-df-container {\n",
              "      display:flex;\n",
              "      gap: 12px;\n",
              "    }\n",
              "\n",
              "    .colab-df-convert {\n",
              "      background-color: #E8F0FE;\n",
              "      border: none;\n",
              "      border-radius: 50%;\n",
              "      cursor: pointer;\n",
              "      display: none;\n",
              "      fill: #1967D2;\n",
              "      height: 32px;\n",
              "      padding: 0 0 0 0;\n",
              "      width: 32px;\n",
              "    }\n",
              "\n",
              "    .colab-df-convert:hover {\n",
              "      background-color: #E2EBFA;\n",
              "      box-shadow: 0px 1px 2px rgba(60, 64, 67, 0.3), 0px 1px 3px 1px rgba(60, 64, 67, 0.15);\n",
              "      fill: #174EA6;\n",
              "    }\n",
              "\n",
              "    .colab-df-buttons div {\n",
              "      margin-bottom: 4px;\n",
              "    }\n",
              "\n",
              "    [theme=dark] .colab-df-convert {\n",
              "      background-color: #3B4455;\n",
              "      fill: #D2E3FC;\n",
              "    }\n",
              "\n",
              "    [theme=dark] .colab-df-convert:hover {\n",
              "      background-color: #434B5C;\n",
              "      box-shadow: 0px 1px 3px 1px rgba(0, 0, 0, 0.15);\n",
              "      filter: drop-shadow(0px 1px 2px rgba(0, 0, 0, 0.3));\n",
              "      fill: #FFFFFF;\n",
              "    }\n",
              "  </style>\n",
              "\n",
              "    <script>\n",
              "      const buttonEl =\n",
              "        document.querySelector('#df-29fd6d80-2211-40cf-b030-d42ad2eaa4a6 button.colab-df-convert');\n",
              "      buttonEl.style.display =\n",
              "        google.colab.kernel.accessAllowed ? 'block' : 'none';\n",
              "\n",
              "      async function convertToInteractive(key) {\n",
              "        const element = document.querySelector('#df-29fd6d80-2211-40cf-b030-d42ad2eaa4a6');\n",
              "        const dataTable =\n",
              "          await google.colab.kernel.invokeFunction('convertToInteractive',\n",
              "                                                    [key], {});\n",
              "        if (!dataTable) return;\n",
              "\n",
              "        const docLinkHtml = 'Like what you see? Visit the ' +\n",
              "          '<a target=\"_blank\" href=https://colab.research.google.com/notebooks/data_table.ipynb>data table notebook</a>'\n",
              "          + ' to learn more about interactive tables.';\n",
              "        element.innerHTML = '';\n",
              "        dataTable['output_type'] = 'display_data';\n",
              "        await google.colab.output.renderOutput(dataTable, element);\n",
              "        const docLink = document.createElement('div');\n",
              "        docLink.innerHTML = docLinkHtml;\n",
              "        element.appendChild(docLink);\n",
              "      }\n",
              "    </script>\n",
              "  </div>\n",
              "\n",
              "\n",
              "<div id=\"df-83eef829-27af-4b6d-bf1f-17c8d5caec58\">\n",
              "  <button class=\"colab-df-quickchart\" onclick=\"quickchart('df-83eef829-27af-4b6d-bf1f-17c8d5caec58')\"\n",
              "            title=\"Suggest charts\"\n",
              "            style=\"display:none;\">\n",
              "\n",
              "<svg xmlns=\"http://www.w3.org/2000/svg\" height=\"24px\"viewBox=\"0 0 24 24\"\n",
              "     width=\"24px\">\n",
              "    <g>\n",
              "        <path d=\"M19 3H5c-1.1 0-2 .9-2 2v14c0 1.1.9 2 2 2h14c1.1 0 2-.9 2-2V5c0-1.1-.9-2-2-2zM9 17H7v-7h2v7zm4 0h-2V7h2v10zm4 0h-2v-4h2v4z\"/>\n",
              "    </g>\n",
              "</svg>\n",
              "  </button>\n",
              "\n",
              "<style>\n",
              "  .colab-df-quickchart {\n",
              "      --bg-color: #E8F0FE;\n",
              "      --fill-color: #1967D2;\n",
              "      --hover-bg-color: #E2EBFA;\n",
              "      --hover-fill-color: #174EA6;\n",
              "      --disabled-fill-color: #AAA;\n",
              "      --disabled-bg-color: #DDD;\n",
              "  }\n",
              "\n",
              "  [theme=dark] .colab-df-quickchart {\n",
              "      --bg-color: #3B4455;\n",
              "      --fill-color: #D2E3FC;\n",
              "      --hover-bg-color: #434B5C;\n",
              "      --hover-fill-color: #FFFFFF;\n",
              "      --disabled-bg-color: #3B4455;\n",
              "      --disabled-fill-color: #666;\n",
              "  }\n",
              "\n",
              "  .colab-df-quickchart {\n",
              "    background-color: var(--bg-color);\n",
              "    border: none;\n",
              "    border-radius: 50%;\n",
              "    cursor: pointer;\n",
              "    display: none;\n",
              "    fill: var(--fill-color);\n",
              "    height: 32px;\n",
              "    padding: 0;\n",
              "    width: 32px;\n",
              "  }\n",
              "\n",
              "  .colab-df-quickchart:hover {\n",
              "    background-color: var(--hover-bg-color);\n",
              "    box-shadow: 0 1px 2px rgba(60, 64, 67, 0.3), 0 1px 3px 1px rgba(60, 64, 67, 0.15);\n",
              "    fill: var(--button-hover-fill-color);\n",
              "  }\n",
              "\n",
              "  .colab-df-quickchart-complete:disabled,\n",
              "  .colab-df-quickchart-complete:disabled:hover {\n",
              "    background-color: var(--disabled-bg-color);\n",
              "    fill: var(--disabled-fill-color);\n",
              "    box-shadow: none;\n",
              "  }\n",
              "\n",
              "  .colab-df-spinner {\n",
              "    border: 2px solid var(--fill-color);\n",
              "    border-color: transparent;\n",
              "    border-bottom-color: var(--fill-color);\n",
              "    animation:\n",
              "      spin 1s steps(1) infinite;\n",
              "  }\n",
              "\n",
              "  @keyframes spin {\n",
              "    0% {\n",
              "      border-color: transparent;\n",
              "      border-bottom-color: var(--fill-color);\n",
              "      border-left-color: var(--fill-color);\n",
              "    }\n",
              "    20% {\n",
              "      border-color: transparent;\n",
              "      border-left-color: var(--fill-color);\n",
              "      border-top-color: var(--fill-color);\n",
              "    }\n",
              "    30% {\n",
              "      border-color: transparent;\n",
              "      border-left-color: var(--fill-color);\n",
              "      border-top-color: var(--fill-color);\n",
              "      border-right-color: var(--fill-color);\n",
              "    }\n",
              "    40% {\n",
              "      border-color: transparent;\n",
              "      border-right-color: var(--fill-color);\n",
              "      border-top-color: var(--fill-color);\n",
              "    }\n",
              "    60% {\n",
              "      border-color: transparent;\n",
              "      border-right-color: var(--fill-color);\n",
              "    }\n",
              "    80% {\n",
              "      border-color: transparent;\n",
              "      border-right-color: var(--fill-color);\n",
              "      border-bottom-color: var(--fill-color);\n",
              "    }\n",
              "    90% {\n",
              "      border-color: transparent;\n",
              "      border-bottom-color: var(--fill-color);\n",
              "    }\n",
              "  }\n",
              "</style>\n",
              "\n",
              "  <script>\n",
              "    async function quickchart(key) {\n",
              "      const quickchartButtonEl =\n",
              "        document.querySelector('#' + key + ' button');\n",
              "      quickchartButtonEl.disabled = true;  // To prevent multiple clicks.\n",
              "      quickchartButtonEl.classList.add('colab-df-spinner');\n",
              "      try {\n",
              "        const charts = await google.colab.kernel.invokeFunction(\n",
              "            'suggestCharts', [key], {});\n",
              "      } catch (error) {\n",
              "        console.error('Error during call to suggestCharts:', error);\n",
              "      }\n",
              "      quickchartButtonEl.classList.remove('colab-df-spinner');\n",
              "      quickchartButtonEl.classList.add('colab-df-quickchart-complete');\n",
              "    }\n",
              "    (() => {\n",
              "      let quickchartButtonEl =\n",
              "        document.querySelector('#df-83eef829-27af-4b6d-bf1f-17c8d5caec58 button');\n",
              "      quickchartButtonEl.style.display =\n",
              "        google.colab.kernel.accessAllowed ? 'block' : 'none';\n",
              "    })();\n",
              "  </script>\n",
              "</div>\n",
              "\n",
              "    </div>\n",
              "  </div>\n"
            ]
          },
          "metadata": {},
          "execution_count": 81
        }
      ]
    },
    {
      "cell_type": "code",
      "source": [
        "unique_values = {}\n",
        "for column in df.columns:\n",
        "    unique_values[column] = df[column].unique()\n",
        "\n",
        "print(unique_values)"
      ],
      "metadata": {
        "colab": {
          "base_uri": "https://localhost:8080/"
        },
        "id": "KMSsbN0xzcN4",
        "outputId": "266f5d3d-e04d-4752-de40-178179b6476d"
      },
      "execution_count": null,
      "outputs": [
        {
          "output_type": "stream",
          "name": "stdout",
          "text": [
            "{'Ind_ID': array([     1,      2,      3, ..., 278846, 278847, 278848]), 'Cough_symptoms': array([True, False, nan], dtype=object), 'Fever': array([False, True, nan], dtype=object), 'Sore_throat': array([True, False, nan], dtype=object), 'Shortness_of_breath': array([False, True, nan], dtype=object), 'Headache': array([False, True, nan], dtype=object), 'Corona': ['negative', 'positive', 'other']\n",
            "Categories (3, object): ['negative', 'other', 'positive'], 'Age_60_above': array(['None', 'No', 'Yes'], dtype=object), 'Sex': array(['None', 'male', 'female'], dtype=object), 'Known_contact': array(['Abroad', 'Contact with confirmed', 'Other'], dtype=object), 'day_of_week': array([1, 3, 4, 5, 6, 0, 2]), 'month': array([11, 12,  3,  1,  2,  4,  5,  6,  7,  8,  9, 10]), 'year': array([2020])}\n"
          ]
        }
      ]
    },
    {
      "cell_type": "markdown",
      "source": [
        "**When** **dealing** **with** **the** '**Test_date**' **column** **in** **a** **machine** **learning** (ML) **project**, **we** **typically** **want** **to** **preprocess** **it** **into** **a** **format** **that** **is** **suitable** **for** **ML** **algorithms** **to** **handle**.\n",
        " **next**, **convert** **the** '**Test_date**' **column** **to** **a** **datetime** **data** **type**. **This allows you to perform date-related operations and extract features from the date.**"
      ],
      "metadata": {
        "id": "GS30To0A8k5m"
      }
    },
    {
      "cell_type": "code",
      "source": [
        "df['Test_date'] = pd.to_datetime(df['Test_date'])     # Convert 'Test_date' to datetime\n",
        "\n",
        "df['day_of_week'] = df['Test_date'].dt.dayofweek      # Extract features\n",
        "df['month'] = df['Test_date'].dt.month\n",
        "df['year'] = df['Test_date'].dt.year\n",
        "df.drop(columns=['Test_date'], inplace=True)          # Drop original 'Test_date' column"
      ],
      "metadata": {
        "id": "pbC1FkKJ37DG"
      },
      "execution_count": null,
      "outputs": []
    },
    {
      "cell_type": "code",
      "source": [
        "df.head()"
      ],
      "metadata": {
        "colab": {
          "base_uri": "https://localhost:8080/",
          "height": 243
        },
        "id": "GEBsCQ0A5mc0",
        "outputId": "0cacda37-b56c-4aec-c5a1-163560fdaeb9"
      },
      "execution_count": null,
      "outputs": [
        {
          "output_type": "execute_result",
          "data": {
            "text/plain": [
              "   Ind_ID Cough_symptoms  Fever Sore_throat Shortness_of_breath Headache  \\\n",
              "0       1           true  false        true               false    false   \n",
              "1       2          false   true       false               false    false   \n",
              "2       3          false   true       false               false    false   \n",
              "3       4           true  false       false               false    false   \n",
              "4       5           true  false       false               false    false   \n",
              "\n",
              "     Corona Age_60_above   Sex           Known_contact  day_of_week  month  \\\n",
              "0  negative         None  None                  Abroad            1     11   \n",
              "1  positive         None  None                  Abroad            1     11   \n",
              "2  positive         None  None                  Abroad            1     11   \n",
              "3  negative         None  None                  Abroad            1     11   \n",
              "4  negative         None  None  Contact with confirmed            1     11   \n",
              "\n",
              "   year  \n",
              "0  2020  \n",
              "1  2020  \n",
              "2  2020  \n",
              "3  2020  \n",
              "4  2020  "
            ],
            "text/html": [
              "\n",
              "  <div id=\"df-382fbf8b-294a-4a84-9963-acf823372fd1\" class=\"colab-df-container\">\n",
              "    <div>\n",
              "<style scoped>\n",
              "    .dataframe tbody tr th:only-of-type {\n",
              "        vertical-align: middle;\n",
              "    }\n",
              "\n",
              "    .dataframe tbody tr th {\n",
              "        vertical-align: top;\n",
              "    }\n",
              "\n",
              "    .dataframe thead th {\n",
              "        text-align: right;\n",
              "    }\n",
              "</style>\n",
              "<table border=\"1\" class=\"dataframe\">\n",
              "  <thead>\n",
              "    <tr style=\"text-align: right;\">\n",
              "      <th></th>\n",
              "      <th>Ind_ID</th>\n",
              "      <th>Cough_symptoms</th>\n",
              "      <th>Fever</th>\n",
              "      <th>Sore_throat</th>\n",
              "      <th>Shortness_of_breath</th>\n",
              "      <th>Headache</th>\n",
              "      <th>Corona</th>\n",
              "      <th>Age_60_above</th>\n",
              "      <th>Sex</th>\n",
              "      <th>Known_contact</th>\n",
              "      <th>day_of_week</th>\n",
              "      <th>month</th>\n",
              "      <th>year</th>\n",
              "    </tr>\n",
              "  </thead>\n",
              "  <tbody>\n",
              "    <tr>\n",
              "      <th>0</th>\n",
              "      <td>1</td>\n",
              "      <td>true</td>\n",
              "      <td>false</td>\n",
              "      <td>true</td>\n",
              "      <td>false</td>\n",
              "      <td>false</td>\n",
              "      <td>negative</td>\n",
              "      <td>None</td>\n",
              "      <td>None</td>\n",
              "      <td>Abroad</td>\n",
              "      <td>1</td>\n",
              "      <td>11</td>\n",
              "      <td>2020</td>\n",
              "    </tr>\n",
              "    <tr>\n",
              "      <th>1</th>\n",
              "      <td>2</td>\n",
              "      <td>false</td>\n",
              "      <td>true</td>\n",
              "      <td>false</td>\n",
              "      <td>false</td>\n",
              "      <td>false</td>\n",
              "      <td>positive</td>\n",
              "      <td>None</td>\n",
              "      <td>None</td>\n",
              "      <td>Abroad</td>\n",
              "      <td>1</td>\n",
              "      <td>11</td>\n",
              "      <td>2020</td>\n",
              "    </tr>\n",
              "    <tr>\n",
              "      <th>2</th>\n",
              "      <td>3</td>\n",
              "      <td>false</td>\n",
              "      <td>true</td>\n",
              "      <td>false</td>\n",
              "      <td>false</td>\n",
              "      <td>false</td>\n",
              "      <td>positive</td>\n",
              "      <td>None</td>\n",
              "      <td>None</td>\n",
              "      <td>Abroad</td>\n",
              "      <td>1</td>\n",
              "      <td>11</td>\n",
              "      <td>2020</td>\n",
              "    </tr>\n",
              "    <tr>\n",
              "      <th>3</th>\n",
              "      <td>4</td>\n",
              "      <td>true</td>\n",
              "      <td>false</td>\n",
              "      <td>false</td>\n",
              "      <td>false</td>\n",
              "      <td>false</td>\n",
              "      <td>negative</td>\n",
              "      <td>None</td>\n",
              "      <td>None</td>\n",
              "      <td>Abroad</td>\n",
              "      <td>1</td>\n",
              "      <td>11</td>\n",
              "      <td>2020</td>\n",
              "    </tr>\n",
              "    <tr>\n",
              "      <th>4</th>\n",
              "      <td>5</td>\n",
              "      <td>true</td>\n",
              "      <td>false</td>\n",
              "      <td>false</td>\n",
              "      <td>false</td>\n",
              "      <td>false</td>\n",
              "      <td>negative</td>\n",
              "      <td>None</td>\n",
              "      <td>None</td>\n",
              "      <td>Contact with confirmed</td>\n",
              "      <td>1</td>\n",
              "      <td>11</td>\n",
              "      <td>2020</td>\n",
              "    </tr>\n",
              "  </tbody>\n",
              "</table>\n",
              "</div>\n",
              "    <div class=\"colab-df-buttons\">\n",
              "\n",
              "  <div class=\"colab-df-container\">\n",
              "    <button class=\"colab-df-convert\" onclick=\"convertToInteractive('df-382fbf8b-294a-4a84-9963-acf823372fd1')\"\n",
              "            title=\"Convert this dataframe to an interactive table.\"\n",
              "            style=\"display:none;\">\n",
              "\n",
              "  <svg xmlns=\"http://www.w3.org/2000/svg\" height=\"24px\" viewBox=\"0 -960 960 960\">\n",
              "    <path d=\"M120-120v-720h720v720H120Zm60-500h600v-160H180v160Zm220 220h160v-160H400v160Zm0 220h160v-160H400v160ZM180-400h160v-160H180v160Zm440 0h160v-160H620v160ZM180-180h160v-160H180v160Zm440 0h160v-160H620v160Z\"/>\n",
              "  </svg>\n",
              "    </button>\n",
              "\n",
              "  <style>\n",
              "    .colab-df-container {\n",
              "      display:flex;\n",
              "      gap: 12px;\n",
              "    }\n",
              "\n",
              "    .colab-df-convert {\n",
              "      background-color: #E8F0FE;\n",
              "      border: none;\n",
              "      border-radius: 50%;\n",
              "      cursor: pointer;\n",
              "      display: none;\n",
              "      fill: #1967D2;\n",
              "      height: 32px;\n",
              "      padding: 0 0 0 0;\n",
              "      width: 32px;\n",
              "    }\n",
              "\n",
              "    .colab-df-convert:hover {\n",
              "      background-color: #E2EBFA;\n",
              "      box-shadow: 0px 1px 2px rgba(60, 64, 67, 0.3), 0px 1px 3px 1px rgba(60, 64, 67, 0.15);\n",
              "      fill: #174EA6;\n",
              "    }\n",
              "\n",
              "    .colab-df-buttons div {\n",
              "      margin-bottom: 4px;\n",
              "    }\n",
              "\n",
              "    [theme=dark] .colab-df-convert {\n",
              "      background-color: #3B4455;\n",
              "      fill: #D2E3FC;\n",
              "    }\n",
              "\n",
              "    [theme=dark] .colab-df-convert:hover {\n",
              "      background-color: #434B5C;\n",
              "      box-shadow: 0px 1px 3px 1px rgba(0, 0, 0, 0.15);\n",
              "      filter: drop-shadow(0px 1px 2px rgba(0, 0, 0, 0.3));\n",
              "      fill: #FFFFFF;\n",
              "    }\n",
              "  </style>\n",
              "\n",
              "    <script>\n",
              "      const buttonEl =\n",
              "        document.querySelector('#df-382fbf8b-294a-4a84-9963-acf823372fd1 button.colab-df-convert');\n",
              "      buttonEl.style.display =\n",
              "        google.colab.kernel.accessAllowed ? 'block' : 'none';\n",
              "\n",
              "      async function convertToInteractive(key) {\n",
              "        const element = document.querySelector('#df-382fbf8b-294a-4a84-9963-acf823372fd1');\n",
              "        const dataTable =\n",
              "          await google.colab.kernel.invokeFunction('convertToInteractive',\n",
              "                                                    [key], {});\n",
              "        if (!dataTable) return;\n",
              "\n",
              "        const docLinkHtml = 'Like what you see? Visit the ' +\n",
              "          '<a target=\"_blank\" href=https://colab.research.google.com/notebooks/data_table.ipynb>data table notebook</a>'\n",
              "          + ' to learn more about interactive tables.';\n",
              "        element.innerHTML = '';\n",
              "        dataTable['output_type'] = 'display_data';\n",
              "        await google.colab.output.renderOutput(dataTable, element);\n",
              "        const docLink = document.createElement('div');\n",
              "        docLink.innerHTML = docLinkHtml;\n",
              "        element.appendChild(docLink);\n",
              "      }\n",
              "    </script>\n",
              "  </div>\n",
              "\n",
              "\n",
              "<div id=\"df-2aa834f2-a09f-4da0-8630-fda311c3d904\">\n",
              "  <button class=\"colab-df-quickchart\" onclick=\"quickchart('df-2aa834f2-a09f-4da0-8630-fda311c3d904')\"\n",
              "            title=\"Suggest charts\"\n",
              "            style=\"display:none;\">\n",
              "\n",
              "<svg xmlns=\"http://www.w3.org/2000/svg\" height=\"24px\"viewBox=\"0 0 24 24\"\n",
              "     width=\"24px\">\n",
              "    <g>\n",
              "        <path d=\"M19 3H5c-1.1 0-2 .9-2 2v14c0 1.1.9 2 2 2h14c1.1 0 2-.9 2-2V5c0-1.1-.9-2-2-2zM9 17H7v-7h2v7zm4 0h-2V7h2v10zm4 0h-2v-4h2v4z\"/>\n",
              "    </g>\n",
              "</svg>\n",
              "  </button>\n",
              "\n",
              "<style>\n",
              "  .colab-df-quickchart {\n",
              "      --bg-color: #E8F0FE;\n",
              "      --fill-color: #1967D2;\n",
              "      --hover-bg-color: #E2EBFA;\n",
              "      --hover-fill-color: #174EA6;\n",
              "      --disabled-fill-color: #AAA;\n",
              "      --disabled-bg-color: #DDD;\n",
              "  }\n",
              "\n",
              "  [theme=dark] .colab-df-quickchart {\n",
              "      --bg-color: #3B4455;\n",
              "      --fill-color: #D2E3FC;\n",
              "      --hover-bg-color: #434B5C;\n",
              "      --hover-fill-color: #FFFFFF;\n",
              "      --disabled-bg-color: #3B4455;\n",
              "      --disabled-fill-color: #666;\n",
              "  }\n",
              "\n",
              "  .colab-df-quickchart {\n",
              "    background-color: var(--bg-color);\n",
              "    border: none;\n",
              "    border-radius: 50%;\n",
              "    cursor: pointer;\n",
              "    display: none;\n",
              "    fill: var(--fill-color);\n",
              "    height: 32px;\n",
              "    padding: 0;\n",
              "    width: 32px;\n",
              "  }\n",
              "\n",
              "  .colab-df-quickchart:hover {\n",
              "    background-color: var(--hover-bg-color);\n",
              "    box-shadow: 0 1px 2px rgba(60, 64, 67, 0.3), 0 1px 3px 1px rgba(60, 64, 67, 0.15);\n",
              "    fill: var(--button-hover-fill-color);\n",
              "  }\n",
              "\n",
              "  .colab-df-quickchart-complete:disabled,\n",
              "  .colab-df-quickchart-complete:disabled:hover {\n",
              "    background-color: var(--disabled-bg-color);\n",
              "    fill: var(--disabled-fill-color);\n",
              "    box-shadow: none;\n",
              "  }\n",
              "\n",
              "  .colab-df-spinner {\n",
              "    border: 2px solid var(--fill-color);\n",
              "    border-color: transparent;\n",
              "    border-bottom-color: var(--fill-color);\n",
              "    animation:\n",
              "      spin 1s steps(1) infinite;\n",
              "  }\n",
              "\n",
              "  @keyframes spin {\n",
              "    0% {\n",
              "      border-color: transparent;\n",
              "      border-bottom-color: var(--fill-color);\n",
              "      border-left-color: var(--fill-color);\n",
              "    }\n",
              "    20% {\n",
              "      border-color: transparent;\n",
              "      border-left-color: var(--fill-color);\n",
              "      border-top-color: var(--fill-color);\n",
              "    }\n",
              "    30% {\n",
              "      border-color: transparent;\n",
              "      border-left-color: var(--fill-color);\n",
              "      border-top-color: var(--fill-color);\n",
              "      border-right-color: var(--fill-color);\n",
              "    }\n",
              "    40% {\n",
              "      border-color: transparent;\n",
              "      border-right-color: var(--fill-color);\n",
              "      border-top-color: var(--fill-color);\n",
              "    }\n",
              "    60% {\n",
              "      border-color: transparent;\n",
              "      border-right-color: var(--fill-color);\n",
              "    }\n",
              "    80% {\n",
              "      border-color: transparent;\n",
              "      border-right-color: var(--fill-color);\n",
              "      border-bottom-color: var(--fill-color);\n",
              "    }\n",
              "    90% {\n",
              "      border-color: transparent;\n",
              "      border-bottom-color: var(--fill-color);\n",
              "    }\n",
              "  }\n",
              "</style>\n",
              "\n",
              "  <script>\n",
              "    async function quickchart(key) {\n",
              "      const quickchartButtonEl =\n",
              "        document.querySelector('#' + key + ' button');\n",
              "      quickchartButtonEl.disabled = true;  // To prevent multiple clicks.\n",
              "      quickchartButtonEl.classList.add('colab-df-spinner');\n",
              "      try {\n",
              "        const charts = await google.colab.kernel.invokeFunction(\n",
              "            'suggestCharts', [key], {});\n",
              "      } catch (error) {\n",
              "        console.error('Error during call to suggestCharts:', error);\n",
              "      }\n",
              "      quickchartButtonEl.classList.remove('colab-df-spinner');\n",
              "      quickchartButtonEl.classList.add('colab-df-quickchart-complete');\n",
              "    }\n",
              "    (() => {\n",
              "      let quickchartButtonEl =\n",
              "        document.querySelector('#df-2aa834f2-a09f-4da0-8630-fda311c3d904 button');\n",
              "      quickchartButtonEl.style.display =\n",
              "        google.colab.kernel.accessAllowed ? 'block' : 'none';\n",
              "    })();\n",
              "  </script>\n",
              "</div>\n",
              "\n",
              "    </div>\n",
              "  </div>\n"
            ]
          },
          "metadata": {},
          "execution_count": 83
        }
      ]
    },
    {
      "cell_type": "code",
      "source": [
        "df[df.duplicated()]                    #This line shows that we are checking for the duplicated rows in the dataset"
      ],
      "metadata": {
        "colab": {
          "base_uri": "https://localhost:8080/",
          "height": 53
        },
        "id": "ZSSTiILi-4UC",
        "outputId": "2188a2cc-f0af-41fe-df30-62e7eb2ea817"
      },
      "execution_count": null,
      "outputs": [
        {
          "output_type": "execute_result",
          "data": {
            "text/plain": [
              "Empty DataFrame\n",
              "Columns: [Ind_ID, Cough_symptoms, Fever, Sore_throat, Shortness_of_breath, Headache, Corona, Age_60_above, Sex, Known_contact, day_of_week, month, year]\n",
              "Index: []"
            ],
            "text/html": [
              "\n",
              "  <div id=\"df-4ba06de9-15f6-4f21-8fda-df4e7d35aa1a\" class=\"colab-df-container\">\n",
              "    <div>\n",
              "<style scoped>\n",
              "    .dataframe tbody tr th:only-of-type {\n",
              "        vertical-align: middle;\n",
              "    }\n",
              "\n",
              "    .dataframe tbody tr th {\n",
              "        vertical-align: top;\n",
              "    }\n",
              "\n",
              "    .dataframe thead th {\n",
              "        text-align: right;\n",
              "    }\n",
              "</style>\n",
              "<table border=\"1\" class=\"dataframe\">\n",
              "  <thead>\n",
              "    <tr style=\"text-align: right;\">\n",
              "      <th></th>\n",
              "      <th>Ind_ID</th>\n",
              "      <th>Cough_symptoms</th>\n",
              "      <th>Fever</th>\n",
              "      <th>Sore_throat</th>\n",
              "      <th>Shortness_of_breath</th>\n",
              "      <th>Headache</th>\n",
              "      <th>Corona</th>\n",
              "      <th>Age_60_above</th>\n",
              "      <th>Sex</th>\n",
              "      <th>Known_contact</th>\n",
              "      <th>day_of_week</th>\n",
              "      <th>month</th>\n",
              "      <th>year</th>\n",
              "    </tr>\n",
              "  </thead>\n",
              "  <tbody>\n",
              "  </tbody>\n",
              "</table>\n",
              "</div>\n",
              "    <div class=\"colab-df-buttons\">\n",
              "\n",
              "  <div class=\"colab-df-container\">\n",
              "    <button class=\"colab-df-convert\" onclick=\"convertToInteractive('df-4ba06de9-15f6-4f21-8fda-df4e7d35aa1a')\"\n",
              "            title=\"Convert this dataframe to an interactive table.\"\n",
              "            style=\"display:none;\">\n",
              "\n",
              "  <svg xmlns=\"http://www.w3.org/2000/svg\" height=\"24px\" viewBox=\"0 -960 960 960\">\n",
              "    <path d=\"M120-120v-720h720v720H120Zm60-500h600v-160H180v160Zm220 220h160v-160H400v160Zm0 220h160v-160H400v160ZM180-400h160v-160H180v160Zm440 0h160v-160H620v160ZM180-180h160v-160H180v160Zm440 0h160v-160H620v160Z\"/>\n",
              "  </svg>\n",
              "    </button>\n",
              "\n",
              "  <style>\n",
              "    .colab-df-container {\n",
              "      display:flex;\n",
              "      gap: 12px;\n",
              "    }\n",
              "\n",
              "    .colab-df-convert {\n",
              "      background-color: #E8F0FE;\n",
              "      border: none;\n",
              "      border-radius: 50%;\n",
              "      cursor: pointer;\n",
              "      display: none;\n",
              "      fill: #1967D2;\n",
              "      height: 32px;\n",
              "      padding: 0 0 0 0;\n",
              "      width: 32px;\n",
              "    }\n",
              "\n",
              "    .colab-df-convert:hover {\n",
              "      background-color: #E2EBFA;\n",
              "      box-shadow: 0px 1px 2px rgba(60, 64, 67, 0.3), 0px 1px 3px 1px rgba(60, 64, 67, 0.15);\n",
              "      fill: #174EA6;\n",
              "    }\n",
              "\n",
              "    .colab-df-buttons div {\n",
              "      margin-bottom: 4px;\n",
              "    }\n",
              "\n",
              "    [theme=dark] .colab-df-convert {\n",
              "      background-color: #3B4455;\n",
              "      fill: #D2E3FC;\n",
              "    }\n",
              "\n",
              "    [theme=dark] .colab-df-convert:hover {\n",
              "      background-color: #434B5C;\n",
              "      box-shadow: 0px 1px 3px 1px rgba(0, 0, 0, 0.15);\n",
              "      filter: drop-shadow(0px 1px 2px rgba(0, 0, 0, 0.3));\n",
              "      fill: #FFFFFF;\n",
              "    }\n",
              "  </style>\n",
              "\n",
              "    <script>\n",
              "      const buttonEl =\n",
              "        document.querySelector('#df-4ba06de9-15f6-4f21-8fda-df4e7d35aa1a button.colab-df-convert');\n",
              "      buttonEl.style.display =\n",
              "        google.colab.kernel.accessAllowed ? 'block' : 'none';\n",
              "\n",
              "      async function convertToInteractive(key) {\n",
              "        const element = document.querySelector('#df-4ba06de9-15f6-4f21-8fda-df4e7d35aa1a');\n",
              "        const dataTable =\n",
              "          await google.colab.kernel.invokeFunction('convertToInteractive',\n",
              "                                                    [key], {});\n",
              "        if (!dataTable) return;\n",
              "\n",
              "        const docLinkHtml = 'Like what you see? Visit the ' +\n",
              "          '<a target=\"_blank\" href=https://colab.research.google.com/notebooks/data_table.ipynb>data table notebook</a>'\n",
              "          + ' to learn more about interactive tables.';\n",
              "        element.innerHTML = '';\n",
              "        dataTable['output_type'] = 'display_data';\n",
              "        await google.colab.output.renderOutput(dataTable, element);\n",
              "        const docLink = document.createElement('div');\n",
              "        docLink.innerHTML = docLinkHtml;\n",
              "        element.appendChild(docLink);\n",
              "      }\n",
              "    </script>\n",
              "  </div>\n",
              "\n",
              "\n",
              "    </div>\n",
              "  </div>\n"
            ]
          },
          "metadata": {},
          "execution_count": 84
        }
      ]
    },
    {
      "cell_type": "markdown",
      "source": [
        "**There** **are** **no** **duplicate** **rows** **in** **this** **data** **set**"
      ],
      "metadata": {
        "id": "1MGQQ1LQ_Bpe"
      }
    },
    {
      "cell_type": "markdown",
      "source": [
        "**If we add additional features are incorporated into the analysis, it can indeed enhance the depth and accuracy of the predictive model. By including more relevant features related to symptoms, demographic characteristics, and other pertinent factors, the model can capture a more comprehensive understanding of the COVID-19 diagnosis process. This expanded feature set can potentially uncover hidden patterns, relationships, and insights within the data, leading to more robust and reliable predictions.**"
      ],
      "metadata": {
        "id": "wy5rmjoGPC2S"
      }
    },
    {
      "cell_type": "code",
      "source": [
        "df.isnull().sum()        # Checking if the dataset has any null values in it"
      ],
      "metadata": {
        "colab": {
          "base_uri": "https://localhost:8080/"
        },
        "id": "r5C45QLw1NcU",
        "outputId": "deaaf70b-8ac6-4d9d-f95a-65343a42c640"
      },
      "execution_count": null,
      "outputs": [
        {
          "output_type": "execute_result",
          "data": {
            "text/plain": [
              "Ind_ID                      0\n",
              "Cough_symptoms         147776\n",
              "Fever                  147776\n",
              "Sore_throat            213312\n",
              "Shortness_of_breath    213312\n",
              "Headache               213312\n",
              "Corona                      0\n",
              "Age_60_above                0\n",
              "Sex                         0\n",
              "Known_contact               0\n",
              "day_of_week                 0\n",
              "month                       0\n",
              "year                        0\n",
              "dtype: int64"
            ]
          },
          "metadata": {},
          "execution_count": 85
        }
      ]
    },
    {
      "cell_type": "markdown",
      "source": [
        " **The dataset is mostly complete, but there is a significant number of missing values for categorical columns related to symptoms such as Cough_symptoms, Fever, Sore_throat, Shortness_of_breath, and Headache. To address this, we need to handle these missing values appropriately through mode imputation by using sklearn library .**"
      ],
      "metadata": {
        "id": "3ZFtJxNR-qMn"
      }
    },
    {
      "cell_type": "code",
      "source": [
        "from sklearn.impute import SimpleImputer\n",
        "\n",
        "columns_to_impute = ['Cough_symptoms', 'Fever', 'Sore_throat', 'Shortness_of_breath', 'Headache']\n",
        "\n",
        "imputer = SimpleImputer(strategy='most_frequent')       # Create an instance of SimpleImputer with strategy='most_frequent'\n",
        "\n",
        "imputer.fit(df[columns_to_impute])                      # Fit the imputer on the selected columns\n",
        "\n",
        "df[columns_to_impute] = imputer.transform(df[columns_to_impute])     # Transform and replace missing values in the Dataset\n"
      ],
      "metadata": {
        "id": "mVZWCv0BzP4X"
      },
      "execution_count": null,
      "outputs": []
    },
    {
      "cell_type": "code",
      "source": [
        "df.isnull().sum()           # after imputation again Checking if the dataset has any null values"
      ],
      "metadata": {
        "colab": {
          "base_uri": "https://localhost:8080/"
        },
        "id": "RezxSOVgKecR",
        "outputId": "fd0aa5d9-1edf-4ba0-ffa2-5fe7398fc10a"
      },
      "execution_count": null,
      "outputs": [
        {
          "output_type": "execute_result",
          "data": {
            "text/plain": [
              "Ind_ID                 0\n",
              "Cough_symptoms         0\n",
              "Fever                  0\n",
              "Sore_throat            0\n",
              "Shortness_of_breath    0\n",
              "Headache               0\n",
              "Corona                 0\n",
              "Age_60_above           0\n",
              "Sex                    0\n",
              "Known_contact          0\n",
              "day_of_week            0\n",
              "month                  0\n",
              "year                   0\n",
              "dtype: int64"
            ]
          },
          "metadata": {},
          "execution_count": 87
        }
      ]
    },
    {
      "cell_type": "markdown",
      "source": [
        "**Now We can observe that there is no null values in the dataset**"
      ],
      "metadata": {
        "id": "KusgHjV-Ln9u"
      }
    },
    {
      "cell_type": "markdown",
      "source": [
        "**Dealing with outliers** :For the given dataset where all the columns appear to be categorical (except for 'day_of_week', 'month', and 'year' which seem to be numerical representing date-related information), traditional outlier detection methods like those used for numeric data may not be applicable.\n",
        "Outlier detection is primarily used to identify unusual or extreme values in numerical data. Since our dataset consists mainly of categorical variables, the concept of outliers is not as straightforward"
      ],
      "metadata": {
        "id": "z9BjVY-x-o4d"
      }
    },
    {
      "cell_type": "markdown",
      "source": [
        "**I use both feature encoding and feature extraction are essential techniques in this machine learning projects. Feature encoding ensures that the model can process categorical variables effectively, while feature extraction helps in creating a more informative and manageable feature space, ultimately improving the model's performance and interpretability on your dataset.**"
      ],
      "metadata": {
        "id": "QWizSL-2Vfki"
      }
    },
    {
      "cell_type": "markdown",
      "source": [
        "# **SQL part of the project**"
      ],
      "metadata": {
        "id": "KmoitSOboHT_"
      }
    },
    {
      "cell_type": "code",
      "source": [
        "import duckdb\n",
        "conn=duckdb.connect()\n",
        "conn.register('df',df)"
      ],
      "metadata": {
        "colab": {
          "base_uri": "https://localhost:8080/"
        },
        "id": "uyZJ9NSOsI67",
        "outputId": "5d75dbe6-125e-40d5-9c49-9451a4718573"
      },
      "execution_count": null,
      "outputs": [
        {
          "output_type": "execute_result",
          "data": {
            "text/plain": [
              "<duckdb.duckdb.DuckDBPyConnection at 0x7864d93b2e70>"
            ]
          },
          "metadata": {},
          "execution_count": 88
        }
      ]
    },
    {
      "cell_type": "markdown",
      "source": [
        " **The provided code sets up a connection to a DuckDB database and registers a DataFrame as a virtual table in that database, enabling you to query the DataFrame using SQL syntax through DuckDB.**"
      ],
      "metadata": {
        "id": "RwpNQ9Qwsc_X"
      }
    },
    {
      "cell_type": "markdown",
      "source": [
        "**Q1: Find the number of corona patients who faced shortness of breath.**"
      ],
      "metadata": {
        "id": "k57HtiQ0qdRE"
      }
    },
    {
      "cell_type": "code",
      "source": [
        "conn.execute(\"select count(*) AS num_corona_shortness_of_breath from df where Corona ='positive' AND Shortness_of_breath = 'True'\").fetchdf()"
      ],
      "metadata": {
        "colab": {
          "base_uri": "https://localhost:8080/",
          "height": 80
        },
        "id": "-Zjw3LuFszlB",
        "outputId": "fd98032b-575e-4845-e383-76b49cd0a489"
      },
      "execution_count": null,
      "outputs": [
        {
          "output_type": "execute_result",
          "data": {
            "text/plain": [
              "   num_corona_shortness_of_breath\n",
              "0                               0"
            ],
            "text/html": [
              "\n",
              "  <div id=\"df-b2b85115-600d-41ea-baab-e3959edd0c0b\" class=\"colab-df-container\">\n",
              "    <div>\n",
              "<style scoped>\n",
              "    .dataframe tbody tr th:only-of-type {\n",
              "        vertical-align: middle;\n",
              "    }\n",
              "\n",
              "    .dataframe tbody tr th {\n",
              "        vertical-align: top;\n",
              "    }\n",
              "\n",
              "    .dataframe thead th {\n",
              "        text-align: right;\n",
              "    }\n",
              "</style>\n",
              "<table border=\"1\" class=\"dataframe\">\n",
              "  <thead>\n",
              "    <tr style=\"text-align: right;\">\n",
              "      <th></th>\n",
              "      <th>num_corona_shortness_of_breath</th>\n",
              "    </tr>\n",
              "  </thead>\n",
              "  <tbody>\n",
              "    <tr>\n",
              "      <th>0</th>\n",
              "      <td>0</td>\n",
              "    </tr>\n",
              "  </tbody>\n",
              "</table>\n",
              "</div>\n",
              "    <div class=\"colab-df-buttons\">\n",
              "\n",
              "  <div class=\"colab-df-container\">\n",
              "    <button class=\"colab-df-convert\" onclick=\"convertToInteractive('df-b2b85115-600d-41ea-baab-e3959edd0c0b')\"\n",
              "            title=\"Convert this dataframe to an interactive table.\"\n",
              "            style=\"display:none;\">\n",
              "\n",
              "  <svg xmlns=\"http://www.w3.org/2000/svg\" height=\"24px\" viewBox=\"0 -960 960 960\">\n",
              "    <path d=\"M120-120v-720h720v720H120Zm60-500h600v-160H180v160Zm220 220h160v-160H400v160Zm0 220h160v-160H400v160ZM180-400h160v-160H180v160Zm440 0h160v-160H620v160ZM180-180h160v-160H180v160Zm440 0h160v-160H620v160Z\"/>\n",
              "  </svg>\n",
              "    </button>\n",
              "\n",
              "  <style>\n",
              "    .colab-df-container {\n",
              "      display:flex;\n",
              "      gap: 12px;\n",
              "    }\n",
              "\n",
              "    .colab-df-convert {\n",
              "      background-color: #E8F0FE;\n",
              "      border: none;\n",
              "      border-radius: 50%;\n",
              "      cursor: pointer;\n",
              "      display: none;\n",
              "      fill: #1967D2;\n",
              "      height: 32px;\n",
              "      padding: 0 0 0 0;\n",
              "      width: 32px;\n",
              "    }\n",
              "\n",
              "    .colab-df-convert:hover {\n",
              "      background-color: #E2EBFA;\n",
              "      box-shadow: 0px 1px 2px rgba(60, 64, 67, 0.3), 0px 1px 3px 1px rgba(60, 64, 67, 0.15);\n",
              "      fill: #174EA6;\n",
              "    }\n",
              "\n",
              "    .colab-df-buttons div {\n",
              "      margin-bottom: 4px;\n",
              "    }\n",
              "\n",
              "    [theme=dark] .colab-df-convert {\n",
              "      background-color: #3B4455;\n",
              "      fill: #D2E3FC;\n",
              "    }\n",
              "\n",
              "    [theme=dark] .colab-df-convert:hover {\n",
              "      background-color: #434B5C;\n",
              "      box-shadow: 0px 1px 3px 1px rgba(0, 0, 0, 0.15);\n",
              "      filter: drop-shadow(0px 1px 2px rgba(0, 0, 0, 0.3));\n",
              "      fill: #FFFFFF;\n",
              "    }\n",
              "  </style>\n",
              "\n",
              "    <script>\n",
              "      const buttonEl =\n",
              "        document.querySelector('#df-b2b85115-600d-41ea-baab-e3959edd0c0b button.colab-df-convert');\n",
              "      buttonEl.style.display =\n",
              "        google.colab.kernel.accessAllowed ? 'block' : 'none';\n",
              "\n",
              "      async function convertToInteractive(key) {\n",
              "        const element = document.querySelector('#df-b2b85115-600d-41ea-baab-e3959edd0c0b');\n",
              "        const dataTable =\n",
              "          await google.colab.kernel.invokeFunction('convertToInteractive',\n",
              "                                                    [key], {});\n",
              "        if (!dataTable) return;\n",
              "\n",
              "        const docLinkHtml = 'Like what you see? Visit the ' +\n",
              "          '<a target=\"_blank\" href=https://colab.research.google.com/notebooks/data_table.ipynb>data table notebook</a>'\n",
              "          + ' to learn more about interactive tables.';\n",
              "        element.innerHTML = '';\n",
              "        dataTable['output_type'] = 'display_data';\n",
              "        await google.colab.output.renderOutput(dataTable, element);\n",
              "        const docLink = document.createElement('div');\n",
              "        docLink.innerHTML = docLinkHtml;\n",
              "        element.appendChild(docLink);\n",
              "      }\n",
              "    </script>\n",
              "  </div>\n",
              "\n",
              "\n",
              "    </div>\n",
              "  </div>\n"
            ]
          },
          "metadata": {},
          "execution_count": 89
        }
      ]
    },
    {
      "cell_type": "markdown",
      "source": [
        "Tere is no corona patients who faced shortness of breath."
      ],
      "metadata": {
        "id": "L5s0J06itAdm"
      }
    },
    {
      "cell_type": "markdown",
      "source": [
        "**Q2**: **Find** **the number** **of** **negative** **corona** **patients** **who** **have** **fever** **and** **sore_throat**.\n"
      ],
      "metadata": {
        "id": "f0RhjN5fv7z7"
      }
    },
    {
      "cell_type": "code",
      "source": [
        "conn.execute(\"select count(*) from df WHERE Corona = 'negative' AND Fever = 'True' AND Sore_throat = 'True'\").fetchdf()"
      ],
      "metadata": {
        "colab": {
          "base_uri": "https://localhost:8080/",
          "height": 80
        },
        "id": "RvvJHvbRs0N1",
        "outputId": "1b594244-824d-412b-e741-5e6588f7c123"
      },
      "execution_count": null,
      "outputs": [
        {
          "output_type": "execute_result",
          "data": {
            "text/plain": [
              "   count_star()\n",
              "0             0"
            ],
            "text/html": [
              "\n",
              "  <div id=\"df-4b8ce050-03ba-486c-a5f3-564ddf36ec79\" class=\"colab-df-container\">\n",
              "    <div>\n",
              "<style scoped>\n",
              "    .dataframe tbody tr th:only-of-type {\n",
              "        vertical-align: middle;\n",
              "    }\n",
              "\n",
              "    .dataframe tbody tr th {\n",
              "        vertical-align: top;\n",
              "    }\n",
              "\n",
              "    .dataframe thead th {\n",
              "        text-align: right;\n",
              "    }\n",
              "</style>\n",
              "<table border=\"1\" class=\"dataframe\">\n",
              "  <thead>\n",
              "    <tr style=\"text-align: right;\">\n",
              "      <th></th>\n",
              "      <th>count_star()</th>\n",
              "    </tr>\n",
              "  </thead>\n",
              "  <tbody>\n",
              "    <tr>\n",
              "      <th>0</th>\n",
              "      <td>0</td>\n",
              "    </tr>\n",
              "  </tbody>\n",
              "</table>\n",
              "</div>\n",
              "    <div class=\"colab-df-buttons\">\n",
              "\n",
              "  <div class=\"colab-df-container\">\n",
              "    <button class=\"colab-df-convert\" onclick=\"convertToInteractive('df-4b8ce050-03ba-486c-a5f3-564ddf36ec79')\"\n",
              "            title=\"Convert this dataframe to an interactive table.\"\n",
              "            style=\"display:none;\">\n",
              "\n",
              "  <svg xmlns=\"http://www.w3.org/2000/svg\" height=\"24px\" viewBox=\"0 -960 960 960\">\n",
              "    <path d=\"M120-120v-720h720v720H120Zm60-500h600v-160H180v160Zm220 220h160v-160H400v160Zm0 220h160v-160H400v160ZM180-400h160v-160H180v160Zm440 0h160v-160H620v160ZM180-180h160v-160H180v160Zm440 0h160v-160H620v160Z\"/>\n",
              "  </svg>\n",
              "    </button>\n",
              "\n",
              "  <style>\n",
              "    .colab-df-container {\n",
              "      display:flex;\n",
              "      gap: 12px;\n",
              "    }\n",
              "\n",
              "    .colab-df-convert {\n",
              "      background-color: #E8F0FE;\n",
              "      border: none;\n",
              "      border-radius: 50%;\n",
              "      cursor: pointer;\n",
              "      display: none;\n",
              "      fill: #1967D2;\n",
              "      height: 32px;\n",
              "      padding: 0 0 0 0;\n",
              "      width: 32px;\n",
              "    }\n",
              "\n",
              "    .colab-df-convert:hover {\n",
              "      background-color: #E2EBFA;\n",
              "      box-shadow: 0px 1px 2px rgba(60, 64, 67, 0.3), 0px 1px 3px 1px rgba(60, 64, 67, 0.15);\n",
              "      fill: #174EA6;\n",
              "    }\n",
              "\n",
              "    .colab-df-buttons div {\n",
              "      margin-bottom: 4px;\n",
              "    }\n",
              "\n",
              "    [theme=dark] .colab-df-convert {\n",
              "      background-color: #3B4455;\n",
              "      fill: #D2E3FC;\n",
              "    }\n",
              "\n",
              "    [theme=dark] .colab-df-convert:hover {\n",
              "      background-color: #434B5C;\n",
              "      box-shadow: 0px 1px 3px 1px rgba(0, 0, 0, 0.15);\n",
              "      filter: drop-shadow(0px 1px 2px rgba(0, 0, 0, 0.3));\n",
              "      fill: #FFFFFF;\n",
              "    }\n",
              "  </style>\n",
              "\n",
              "    <script>\n",
              "      const buttonEl =\n",
              "        document.querySelector('#df-4b8ce050-03ba-486c-a5f3-564ddf36ec79 button.colab-df-convert');\n",
              "      buttonEl.style.display =\n",
              "        google.colab.kernel.accessAllowed ? 'block' : 'none';\n",
              "\n",
              "      async function convertToInteractive(key) {\n",
              "        const element = document.querySelector('#df-4b8ce050-03ba-486c-a5f3-564ddf36ec79');\n",
              "        const dataTable =\n",
              "          await google.colab.kernel.invokeFunction('convertToInteractive',\n",
              "                                                    [key], {});\n",
              "        if (!dataTable) return;\n",
              "\n",
              "        const docLinkHtml = 'Like what you see? Visit the ' +\n",
              "          '<a target=\"_blank\" href=https://colab.research.google.com/notebooks/data_table.ipynb>data table notebook</a>'\n",
              "          + ' to learn more about interactive tables.';\n",
              "        element.innerHTML = '';\n",
              "        dataTable['output_type'] = 'display_data';\n",
              "        await google.colab.output.renderOutput(dataTable, element);\n",
              "        const docLink = document.createElement('div');\n",
              "        docLink.innerHTML = docLinkHtml;\n",
              "        element.appendChild(docLink);\n",
              "      }\n",
              "    </script>\n",
              "  </div>\n",
              "\n",
              "\n",
              "    </div>\n",
              "  </div>\n"
            ]
          },
          "metadata": {},
          "execution_count": 90
        }
      ]
    },
    {
      "cell_type": "markdown",
      "source": [
        "There is no negative corona patients who have fever and sore_throat."
      ],
      "metadata": {
        "id": "Evpv_WYKxtSM"
      }
    },
    {
      "cell_type": "markdown",
      "source": [
        "**Q3: Group the data by month and rank the number of positive cases.**"
      ],
      "metadata": {
        "id": "8ohjWyLfzQ2-"
      }
    },
    {
      "cell_type": "code",
      "source": [
        "result_df1 = conn.execute(\"\"\"\n",
        "    SELECT month,\n",
        "           COUNT(*) AS num_positive_cases,\n",
        "           DENSE_RANK() OVER (ORDER BY COUNT(*) DESC) AS rank_positive_cases\n",
        "    FROM df\n",
        "    WHERE Corona = 'positive'\n",
        "    GROUP BY month\n",
        "    ORDER BY month\n",
        "\"\"\").fetchdf()\n",
        "print(result_df1)"
      ],
      "metadata": {
        "colab": {
          "base_uri": "https://localhost:8080/"
        },
        "id": "uRbQYpRK7x8z",
        "outputId": "f52781b2-4489-4622-f024-212ca52e6f6f"
      },
      "execution_count": null,
      "outputs": [
        {
          "output_type": "stream",
          "name": "stdout",
          "text": [
            "    month  num_positive_cases  rank_positive_cases\n",
            "0       1                 682                    3\n",
            "1       2                 615                    4\n",
            "2       3                6283                    1\n",
            "3       4                4188                    2\n",
            "4       5                 505                    5\n",
            "5       6                 394                    7\n",
            "6       7                 483                    6\n",
            "7       8                 274                   12\n",
            "8       9                 288                   11\n",
            "9      10                 356                    8\n",
            "10     11                 331                    9\n",
            "11     12                 330                   10\n"
          ]
        }
      ]
    },
    {
      "cell_type": "markdown",
      "source": [
        "**Q4: Find the female negative corona patients who faced cough and headache.**"
      ],
      "metadata": {
        "id": "O6zbNPsf_gWl"
      }
    },
    {
      "cell_type": "code",
      "source": [
        "result_df2 = conn.execute(\"\"\"\n",
        "SELECT *\n",
        "FROM df\n",
        "WHERE Sex = 'female'\n",
        "  AND Corona = 'negative'\n",
        "  AND Cough_symptoms = 'true'\n",
        "  AND Headache = 'true'\n",
        "\"\"\").fetchdf()\n",
        "print(result_df2)"
      ],
      "metadata": {
        "colab": {
          "base_uri": "https://localhost:8080/"
        },
        "id": "eqlo8AkA7H0F",
        "outputId": "48501b0c-cd0c-48ba-f6b4-9ae199accaef"
      },
      "execution_count": null,
      "outputs": [
        {
          "output_type": "stream",
          "name": "stdout",
          "text": [
            "    Ind_ID Cough_symptoms  Fever Sore_throat Shortness_of_breath Headache  \\\n",
            "0    13756           true   true        true               false     true   \n",
            "1    17289           true   true        true               false     true   \n",
            "2    17657           true  false        true               false     true   \n",
            "3    19554           true   true       false               false     true   \n",
            "4    19615           true  false        true                true     true   \n",
            "5    20248           true   true       false               false     true   \n",
            "6    20253           true   true       false               false     true   \n",
            "7    37904           true   true        true                true     true   \n",
            "8    40616           true  false       false                true     true   \n",
            "9    40752           true   true       false               false     true   \n",
            "10   43650           true  false        true                true     true   \n",
            "11   49678           true   true       false               false     true   \n",
            "12   51034           true  false       false               false     true   \n",
            "13   52740           true   true        true               false     true   \n",
            "14   57155           true  false        true               false     true   \n",
            "15   58101           true  false        true               false     true   \n",
            "\n",
            "      Corona Age_60_above     Sex           Known_contact  day_of_week  month  \\\n",
            "0   negative           No  female                  Abroad            6      3   \n",
            "1   negative           No  female                  Abroad            6      3   \n",
            "2   negative           No  female                  Abroad            0      3   \n",
            "3   negative           No  female                   Other            0      3   \n",
            "4   negative           No  female  Contact with confirmed            0      3   \n",
            "5   negative          Yes  female                  Abroad            0      3   \n",
            "6   negative           No  female  Contact with confirmed            0      3   \n",
            "7   negative           No  female  Contact with confirmed            4      3   \n",
            "8   negative           No  female  Contact with confirmed            4      3   \n",
            "9   negative           No  female  Contact with confirmed            4      3   \n",
            "10  negative           No  female  Contact with confirmed            5      3   \n",
            "11  negative           No  female  Contact with confirmed            6      3   \n",
            "12  negative          Yes  female  Contact with confirmed            6      3   \n",
            "13  negative           No  female  Contact with confirmed            6      3   \n",
            "14  negative           No  female                  Abroad            0      3   \n",
            "15  negative           No  female  Contact with confirmed            0      3   \n",
            "\n",
            "    year  \n",
            "0   2020  \n",
            "1   2020  \n",
            "2   2020  \n",
            "3   2020  \n",
            "4   2020  \n",
            "5   2020  \n",
            "6   2020  \n",
            "7   2020  \n",
            "8   2020  \n",
            "9   2020  \n",
            "10  2020  \n",
            "11  2020  \n",
            "12  2020  \n",
            "13  2020  \n",
            "14  2020  \n",
            "15  2020  \n"
          ]
        }
      ]
    },
    {
      "cell_type": "markdown",
      "source": [
        "**Q5: How many elderly corona patients have faced breathing problems?**"
      ],
      "metadata": {
        "id": "Kl4D4SBwDJHv"
      }
    },
    {
      "cell_type": "code",
      "source": [
        "result_df3 = conn.execute(\"\"\"\n",
        "SELECT COUNT(*) AS num_patients\n",
        "FROM df\n",
        "WHERE Corona = 'positive'\n",
        "AND Age_60_above = 'Yes'\n",
        "AND Shortness_of_breath = 'true'\n",
        "\"\"\").fetchdf()\n",
        "print(result_df3)"
      ],
      "metadata": {
        "colab": {
          "base_uri": "https://localhost:8080/"
        },
        "id": "GfO009msAWF-",
        "outputId": "72982cc0-33cf-4e0b-dfc6-279d1f1dfc3f"
      },
      "execution_count": null,
      "outputs": [
        {
          "output_type": "stream",
          "name": "stdout",
          "text": [
            "   num_patients\n",
            "0           169\n"
          ]
        }
      ]
    },
    {
      "cell_type": "markdown",
      "source": [
        "**Q6: Which three symptoms were more common among COVID positive patients?**"
      ],
      "metadata": {
        "id": "Da9uj-SuEVrE"
      }
    },
    {
      "cell_type": "code",
      "source": [
        "# first find count occurrences of each symptom for COVID positive patients\n",
        "result_df4 = conn.execute(\"\"\"\n",
        "SELECT\n",
        "    SUM(CASE WHEN Cough_symptoms = 'true' THEN 1 ELSE 0 END) AS num_cough,\n",
        "    SUM(CASE WHEN Fever = 'true' THEN 1 ELSE 0 END) AS num_fever,\n",
        "    SUM(CASE WHEN Sore_throat = 'true' THEN 1 ELSE 0 END) AS num_sore_throat,\n",
        "    SUM(CASE WHEN Shortness_of_breath = 'true' THEN 1 ELSE 0 END) AS num_shortness_of_breath,\n",
        "    SUM(CASE WHEN Headache = 'true' THEN 1 ELSE 0 END) AS num_headache\n",
        "FROM df\n",
        "WHERE Corona = 'positive'\n",
        "\"\"\").fetchdf()\n",
        "symptom_counts = result_df4.iloc[0]     # Extract the counts of each symptom\n",
        "\n",
        " # Sort the symptoms by their counts in descending order and select the top three\n",
        "top_three_symptoms = symptom_counts.sort_values(ascending=False).head(3)\n",
        "\n",
        "print(\"The three most common symptoms among COVID positive patients are:\")    # Display the top three symptoms\n",
        "for symptom, count in top_three_symptoms.iteritems():\n",
        "    print(f\"{symptom}: {count}\")"
      ],
      "metadata": {
        "colab": {
          "base_uri": "https://localhost:8080/"
        },
        "id": "A7jmZvnaEBn7",
        "outputId": "d9903e99-ecc0-481e-b917-5290168245d0"
      },
      "execution_count": null,
      "outputs": [
        {
          "output_type": "stream",
          "name": "stdout",
          "text": [
            "The three most common symptoms among COVID positive patients are:\n",
            "num_cough: 5013.0\n",
            "num_fever: 4579.0\n",
            "num_headache: 1308.0\n"
          ]
        }
      ]
    },
    {
      "cell_type": "markdown",
      "source": [
        "**Q7:Which symptom was less common among COVID negative people?**"
      ],
      "metadata": {
        "id": "6HEqS0X2HT-b"
      }
    },
    {
      "cell_type": "code",
      "source": [
        "# find count occurrences of each symptom for COVID negative patients\n",
        "result_df5 = conn.execute(\"\"\"\n",
        "SELECT\n",
        "    SUM(CASE WHEN Cough_symptoms = 'true' THEN 1 ELSE 0 END) AS num_cough,\n",
        "    SUM(CASE WHEN Fever = 'true' THEN 1 ELSE 0 END) AS num_fever,\n",
        "    SUM(CASE WHEN Sore_throat = 'true' THEN 1 ELSE 0 END) AS num_sore_throat,\n",
        "    SUM(CASE WHEN Shortness_of_breath = 'true' THEN 1 ELSE 0 END) AS num_shortness_of_breath,\n",
        "    SUM(CASE WHEN Headache = 'true' THEN 1 ELSE 0 END) AS num_headache\n",
        "FROM df\n",
        "WHERE Corona = 'negative'\n",
        "\"\"\").fetchdf()\n",
        "\n",
        "symptom_counts = result_df5.iloc[0]             # Extract the counts of each symptom\n",
        "less_common_symptom = symptom_counts.idxmin()  # Find the symptom with the lowest count\n",
        "\n",
        "print(f\"The symptom less common among COVID negative people is: {less_common_symptom}: {count}\") # Display the less common symptom\n"
      ],
      "metadata": {
        "colab": {
          "base_uri": "https://localhost:8080/"
        },
        "id": "mrMjxm1uFJ-0",
        "outputId": "23f844d7-4be6-4f1a-e24a-b8eba0c934b5"
      },
      "execution_count": null,
      "outputs": [
        {
          "output_type": "stream",
          "name": "stdout",
          "text": [
            "The symptom less common among COVID negative people is: num_headache: 1308.0\n"
          ]
        }
      ]
    },
    {
      "cell_type": "markdown",
      "source": [
        "**Q8**: **What** **are** **the** **most** **common** **symptoms** **among** **COVID** **positive** **males** **whose** **known** **contact** **was** **abroad**?"
      ],
      "metadata": {
        "id": "jwEeVUtRK569"
      }
    },
    {
      "cell_type": "code",
      "source": [
        "# Define the SQL query to count occurrences of each symptom for COVID positive males with known contact abroad\n",
        "result_df6 = conn.execute(\"\"\"\n",
        "SELECT\n",
        "    SUM(CASE WHEN Cough_symptoms = 'true' THEN 1 ELSE 0 END) AS num_cough,\n",
        "    SUM(CASE WHEN Fever = 'true' THEN 1 ELSE 0 END) AS num_fever,\n",
        "    SUM(CASE WHEN Sore_throat = 'true' THEN 1 ELSE 0 END) AS num_sore_throat,\n",
        "    SUM(CASE WHEN Shortness_of_breath = 'true' THEN 1 ELSE 0 END) AS num_shortness_of_breath,\n",
        "    SUM(CASE WHEN Headache = 'true' THEN 1 ELSE 0 END) AS num_headache\n",
        "FROM df\n",
        "WHERE Corona = 'positive'\n",
        "    AND Sex = 'male'\n",
        "    AND Known_contact = 'Abroad'\n",
        "\"\"\").fetchdf()\n",
        "\n",
        "symptom_counts = result_df6.iloc[0]                              # Extract the counts of each symptom\n",
        "\n",
        "sorted_symptoms = symptom_counts.sort_values(ascending=False)    # Sort the symptoms by their counts in descending order\n",
        "\n",
        "print(\"The most common symptoms among COVID positive males whose known contact was abroad are:\")  # Display the most common symptoms\n",
        "for symptom, count in sorted_symptoms.iteritems():\n",
        "    print(f\"{symptom}: {count}\")\n"
      ],
      "metadata": {
        "colab": {
          "base_uri": "https://localhost:8080/"
        },
        "id": "OsRvlsBBI2Lt",
        "outputId": "c5c120aa-5e7b-440b-bb95-efded2de718e"
      },
      "execution_count": null,
      "outputs": [
        {
          "output_type": "stream",
          "name": "stdout",
          "text": [
            "The most common symptoms among COVID positive males whose known contact was abroad are:\n",
            "num_cough: 449.0\n",
            "num_fever: 362.0\n",
            "num_headache: 106.0\n",
            "num_shortness_of_breath: 74.0\n",
            "num_sore_throat: 73.0\n"
          ]
        }
      ]
    },
    {
      "cell_type": "markdown",
      "source": [
        "### **EXPLORATORY DATA ANALYSIS**"
      ],
      "metadata": {
        "id": "AFMHzKMCSMJR"
      }
    },
    {
      "cell_type": "markdown",
      "source": [
        "**Exploratory analysis is a process to explore and understand the data and data relationship in a complete depth so that it makes feature engineering and machine learning modeling steps smooth and streamlined for prediction. EDA involves Univariate, Bivariate, or Multivariate analysis. EDA helps to prove our assumptions true or false.**"
      ],
      "metadata": {
        "id": "7uY5IrfFTkWo"
      }
    },
    {
      "cell_type": "markdown",
      "source": [
        "### **Count Plot of Corona Column**"
      ],
      "metadata": {
        "id": "1fW25ZFOfKqg"
      }
    },
    {
      "cell_type": "markdown",
      "source": [
        "**A count plot is a type of bar plot that shows the counts of observations in each categorical bin using bars. It is commonly used to visualize the distribution of categorical variables. You can use a count plot to display the frequency of occurrences of different categories within a single categorical variable or across multiple categorical variables.now we use this plot to visualize the corona column**."
      ],
      "metadata": {
        "id": "X96kpNROuA2b"
      }
    },
    {
      "cell_type": "code",
      "source": [
        "import seaborn as sns\n",
        "import matplotlib.pyplot as plt\n",
        "\n",
        "colors = {'positive': 'green', 'negative': 'blue', 'other': 'orange'}\n",
        "\n",
        "sns.countplot(data=df, x='Corona', palette=colors)    # Plot count plot for 'Corona' column\n",
        "\n",
        "plt.xlabel('Corona')                  # Add labels and title\n",
        "plt.ylabel('Count')\n",
        "plt.title('Count Plot of Corona Column')\n",
        "plt.show()                                # Show the plot"
      ],
      "metadata": {
        "colab": {
          "base_uri": "https://localhost:8080/",
          "height": 472
        },
        "id": "9-qsm95qMPTn",
        "outputId": "bf10ff28-fe02-4bdc-f121-9df2d4abcc67"
      },
      "execution_count": null,
      "outputs": [
        {
          "output_type": "display_data",
          "data": {
            "text/plain": [
              "<Figure size 640x480 with 1 Axes>"
            ],
            "image/png": "[encoded data removed]"
          },
          "metadata": {}
        }
      ]
    },
    {
      "cell_type": "markdown",
      "source": [
        "**This is count plot for the 'Corona' column, displaying the counts of each category ('positive' and 'negative', 'other'). The x-axis represents the 'Corona' column, and the y-axis represents the count of occurrences.The count plot of the 'Corona' column indicates that there are more negative cases than positive cases in the dataset. This suggests that a larger proportion of the individuals represented in the dataset have tested negative for COVID-19 compared to those who have tested positive**.  "
      ],
      "metadata": {
        "id": "YHe8BxA3gBM5"
      }
    },
    {
      "cell_type": "markdown",
      "source": [
        "### **Line chart over a month**"
      ],
      "metadata": {
        "id": "Zx7iAl6uAkUN"
      }
    },
    {
      "cell_type": "markdown",
      "source": [
        "**Line chart use for analyzing trends, patterns, and relationships in data. They provide a clear and intuitive way to understand complex data and derive actionable insights. in this case**\n",
        "**line** **plot** **can** **be** **used** **to** **visualize** **the**  **number** **of** **positive** **cases** **by** **month**.**We** **can** **group** **the** **data** **by** **month**, **understand** **the** **number** **of** **positive** **and** **negative** **cases** **for** **each** **month** ."
      ],
      "metadata": {
        "id": "KVwobe7fUCVc"
      }
    },
    {
      "cell_type": "code",
      "source": [
        "# Group the data by 'Month' and 'Corona' and count the occurrences\n",
        "count_data = df.groupby(['month', 'Corona']).size().unstack(fill_value=0)\n",
        "\n",
        "# Plotting the line chart\n",
        "plt.figure(figsize=(10, 6))\n",
        "count_data.plot(kind='line', marker='o')\n",
        "plt.title('Count of Positive and Negative Corona Cases by Month')\n",
        "plt.xlabel('Month')\n",
        "plt.ylabel('Count')\n",
        "plt.xticks(rotation=45)\n",
        "plt.grid(True)\n",
        "plt.legend(title='Corona')\n",
        "plt.tight_layout()\n",
        "plt.show()"
      ],
      "metadata": {
        "colab": {
          "base_uri": "https://localhost:8080/",
          "height": 504
        },
        "id": "UImpaA_WCJfK",
        "outputId": "76765ae7-211d-4baa-b9b3-977889bd430f"
      },
      "execution_count": null,
      "outputs": [
        {
          "output_type": "display_data",
          "data": {
            "text/plain": [
              "<Figure size 1000x600 with 0 Axes>"
            ]
          },
          "metadata": {}
        },
        {
          "output_type": "display_data",
          "data": {
            "text/plain": [
              "<Figure size 640x480 with 1 Axes>"
            ],
            "image/png": "[encoded data removed]"
          },
          "metadata": {}
        }
      ]
    },
    {
      "cell_type": "markdown",
      "source": [
        " **we can clearly see that The third and fourth months have some positive cases, with the third month having slightly more positive cases than the fourth month.Remaining months have very few positive cases compared to the third and fourth months.**"
      ],
      "metadata": {
        "id": "cxIGqseEC34K"
      }
    },
    {
      "cell_type": "markdown",
      "source": [
        "### **Bar plot for 'Corona' column against 'month'**"
      ],
      "metadata": {
        "id": "KDuCRcGCpj88"
      }
    },
    {
      "cell_type": "code",
      "source": [
        "# Convert 'Corona' column to categorical type for proper ordering in the plot\n",
        "df['Corona'] = df['Corona'].astype('category')\n",
        "# Plot bar plot for 'Corona' column against 'month'\n",
        "plt.figure(figsize=(10, 6))\n",
        "sns.countplot(data=df, x='month', hue='Corona')\n",
        "plt.title('Bar Plot of Corona Cases by Month')\n",
        "plt.xlabel('Month')\n",
        "plt.ylabel('Count')\n",
        "plt.legend(title='Corona')\n",
        "plt.show()"
      ],
      "metadata": {
        "colab": {
          "base_uri": "https://localhost:8080/",
          "height": 564
        },
        "id": "QNfbGUQWfHLX",
        "outputId": "41404838-5e7f-4be9-aab9-45fb14b28b72"
      },
      "execution_count": null,
      "outputs": [
        {
          "output_type": "display_data",
          "data": {
            "text/plain": [
              "<Figure size 1000x600 with 1 Axes>"
            ],
            "image/png": "[encoded data removed]"
          },
          "metadata": {}
        }
      ]
    },
    {
      "cell_type": "markdown",
      "source": [
        "**The above Bar plot  displaying the counts of each category ('positive' and 'negative,other)for 'Corona' column against 'month'.The x-axis represents months and  the y-axis represents the count of occurrences.**\n",
        "\n",
        "**The third and fourth months have some positive cases, with the third month having slightly more positive cases than the fourth month.Remaining months have very few positive cases compared to the third and fourth months.**"
      ],
      "metadata": {
        "id": "BQ_GpF5JtIPU"
      }
    },
    {
      "cell_type": "markdown",
      "source": [
        "### **Pie Chart for Corona Cases in %**"
      ],
      "metadata": {
        "id": "gpB442QKHIIx"
      }
    },
    {
      "cell_type": "markdown",
      "source": [
        "**Pie charts are effective for visually representing the proportional distribution and comparing the relative sizes of different categories within a dataset .if we want to know positive and negative corona cases in propotions we can use pie chart**"
      ],
      "metadata": {
        "id": "aPpq968QHVYg"
      }
    },
    {
      "cell_type": "code",
      "source": [
        "# Count the occurrences of each value in the 'Corona' column\n",
        "corona_counts = df['Corona'].value_counts()\n",
        "\n",
        "# Plotting the pie chart\n",
        "plt.figure(figsize=(8, 6))\n",
        "plt.pie(corona_counts, labels=corona_counts.index, autopct='%1.1f%%', startangle=140)\n",
        "plt.title('Distribution of Corona Cases')\n",
        "plt.show()"
      ],
      "metadata": {
        "colab": {
          "base_uri": "https://localhost:8080/",
          "height": 521
        },
        "id": "HcyvpWFeHFAZ",
        "outputId": "a40cbd66-96ab-4f3a-94b7-3d3b1f692b4d"
      },
      "execution_count": null,
      "outputs": [
        {
          "output_type": "display_data",
          "data": {
            "text/plain": [
              "<Figure size 800x600 with 1 Axes>"
            ],
            "image/png": "[encoded data removed]"
          },
          "metadata": {}
        }
      ]
    },
    {
      "cell_type": "markdown",
      "source": [
        "**In this pie chart we can also see that 93.3% negative cases , 5.3 % positive cases and 1.4% other in the given dataset**"
      ],
      "metadata": {
        "id": "nyuBi8QMIbW5"
      }
    },
    {
      "cell_type": "markdown",
      "source": [
        "### **Count plot for symptoms related colomns**"
      ],
      "metadata": {
        "id": "ZIYZ43VG1eAQ"
      }
    },
    {
      "cell_type": "markdown",
      "source": [
        "**We can use a count plot to visualize the count of corona patients with symptoms columns for understanding the number of corona patients who faced shortness of breath, as well as similar kinds of information, such as the number of negative corona patients with specific symptoms.**"
      ],
      "metadata": {
        "id": "lDnSd3M0MRK7"
      }
    },
    {
      "cell_type": "code",
      "source": [
        "# List of categorical columns to plot\n",
        "categorical_columns = ['Cough_symptoms', 'Fever', 'Sore_throat', 'Shortness_of_breath', 'Headache']\n",
        "\n",
        "# Custom color palette\n",
        "custom_palette = {\"negative\": \"green\", \"positive\": \"red\", \"other\": \"purple\"}\n",
        "\n",
        "# Plot count plots for each categorical column with 'Corona' as hue\n",
        "for var in categorical_columns:\n",
        "    plt.figure(figsize=(8, 6))\n",
        "    sns.countplot(data=df, x=var, hue='Corona', palette=custom_palette)\n",
        "    plt.title(f'Count Plot of {var} by Corona Cases')\n",
        "    plt.xlabel(var)\n",
        "    plt.ylabel('Count')\n",
        "    plt.show()\n"
      ],
      "metadata": {
        "colab": {
          "base_uri": "https://localhost:8080/",
          "height": 1000
        },
        "id": "M6EUo4cLoeFk",
        "outputId": "8ec73873-342d-4777-ea7d-cc6fd3495539"
      },
      "execution_count": null,
      "outputs": [
        {
          "output_type": "display_data",
          "data": {
            "text/plain": [
              "<Figure size 800x600 with 1 Axes>"
            ],
            "image/png": "[encoded data removed]"
          },
          "metadata": {}
        },
        {
          "output_type": "display_data",
          "data": {
            "text/plain": [
              "<Figure size 800x600 with 1 Axes>"
            ],
            "image/png": "[encoded data removed]"
          },
          "metadata": {}
        },
        {
          "output_type": "display_data",
          "data": {
            "text/plain": [
              "<Figure size 800x600 with 1 Axes>"
            ],
            "image/png": "[encoded data removed]"
          },
          "metadata": {}
        },
        {
          "output_type": "display_data",
          "data": {
            "text/plain": [
              "<Figure size 800x600 with 1 Axes>"
            ],
            "image/png": "[encoded data removed]"
          },
          "metadata": {}
        },
        {
          "output_type": "display_data",
          "data": {
            "text/plain": [
              "<Figure size 800x600 with 1 Axes>"
            ],
            "image/png": "[encoded data removed]"
          },
          "metadata": {}
        }
      ]
    },
    {
      "cell_type": "markdown",
      "source": [
        "**we can see that every symptom has predominantly false values and there are more negative cases overall.The number of positive Corona cases remains low.This indicates that having all these symptoms does not necessarily correlate strongly with a positive test result for Corona.\n",
        "Other factors such as testing protocols, viral load, and individual immune response may also influence the likelihood of testing positive.\n",
        "The presence of true symptoms with very few positive cases could imply a higher rate of false positive cases. False positive results occur when the test incorrectly identifies someone as having the disease when they do not. This observation highlights the importance of confirmatory testing and clinical assessment in cases where symptoms are present but test results are inconclusive or contradictory.**\n"
      ],
      "metadata": {
        "id": "4IdQSPdV7AH4"
      }
    },
    {
      "cell_type": "markdown",
      "source": [
        "### **Pie chart -elderly corona patients who faced breathing problems**"
      ],
      "metadata": {
        "id": "vprloJ1lgObG"
      }
    },
    {
      "cell_type": "code",
      "source": [
        "# Filter the dataset for elderly corona patients who faced breathing problems\n",
        "elderly_patients_with_breathing_problems = df[(df['Age_60_above'] == \"Yes\") &\n",
        "                                               (df['Corona'] == 'positive') &\n",
        "                                               (df['Shortness_of_breath'] == \"true\")]\n",
        "\n",
        "# Count the number of elderly corona patients who faced breathing problems\n",
        "num_elderly_patients = len(elderly_patients_with_breathing_problems)\n",
        "# Create a pie chart to visualize the count\n",
        "labels = ['Elderly Corona Patients with Breathing Problems', 'Others']\n",
        "sizes = [num_elderly_patients, len(df) - num_elderly_patients]\n",
        "colors = ['lightcoral', 'lightskyblue']\n",
        "explode = (0.1, 0)  # explode the 1st slice (Elderly Corona Patients with Breathing Problems)\n",
        "plt.figure(figsize=(8, 6))\n",
        "plt.pie(sizes, explode=explode, labels=labels, colors=colors, autopct='%1.1f%%', shadow=True, startangle=140)\n",
        "plt.title('Elderly Corona Patients with Breathing Problems')\n",
        "plt.axis('equal')  # Equal aspect ratio ensures that pie is drawn as a circle\n",
        "plt.show()\n",
        "\n",
        "# Print the number of elderly corona patients who faced breathing problems\n",
        "print(\"Number of Elderly Corona Patients with Breathing Problems:\", num_elderly_patients)"
      ],
      "metadata": {
        "colab": {
          "base_uri": "https://localhost:8080/",
          "height": 538
        },
        "id": "ZbeNlekdbDvK",
        "outputId": "24a8cdd7-4579-49ea-c400-b45e571dc956"
      },
      "execution_count": null,
      "outputs": [
        {
          "output_type": "display_data",
          "data": {
            "text/plain": [
              "<Figure size 800x600 with 1 Axes>"
            ],
            "image/png": "[encoded data removed]"
          },
          "metadata": {}
        },
        {
          "output_type": "stream",
          "name": "stdout",
          "text": [
            "Number of Elderly Corona Patients with Breathing Problems: 169\n"
          ]
        }
      ]
    },
    {
      "cell_type": "markdown",
      "source": [
        "**From this pie chart we can see that only 0.1% corona patients who faced breathing problems .also we calculate exact count  is 169**"
      ],
      "metadata": {
        "id": "AGwnnBtsgjp3"
      }
    },
    {
      "cell_type": "markdown",
      "source": [
        "### **Bar chart for corona column based on symptoms related columns**"
      ],
      "metadata": {
        "id": "xWdm7HDutNdd"
      }
    },
    {
      "cell_type": "markdown",
      "source": [
        "**In order to understand  Which three symptoms were more common among COVID positive patients? Which symptom was less common among COVID negative people? we can use bar chart of corona based on symptoms columns**."
      ],
      "metadata": {
        "id": "uSDf-CUEwyA8"
      }
    },
    {
      "cell_type": "code",
      "source": [
        "# Convert string values to boolean\n",
        "for col in ['Cough_symptoms', 'Fever', 'Sore_throat', 'Shortness_of_breath', 'Headache']:\n",
        "    df[col] = df[col].map({'true': True, 'false': False})\n",
        "\n",
        "# Group the data by 'Corona' column and calculate the sum of symptoms for each group\n",
        "grouped_data = df.groupby('Corona')[['Cough_symptoms', 'Fever', 'Sore_throat', 'Shortness_of_breath', 'Headache']].sum()\n",
        "\n",
        "# Plot the bar graph\n",
        "grouped_data.plot(kind='bar', figsize=(10, 6))\n",
        "plt.title('Symptoms Distribution Based on Corona Status')\n",
        "plt.xlabel('Corona Status')\n",
        "plt.ylabel('Count')\n",
        "plt.xticks(rotation=0)\n",
        "plt.legend(title='Symptoms')\n",
        "plt.show()"
      ],
      "metadata": {
        "colab": {
          "base_uri": "https://localhost:8080/",
          "height": 564
        },
        "id": "-3UViGKVrx-m",
        "outputId": "c2b70ca6-2092-4f1c-bf0e-961a1e312f7f"
      },
      "execution_count": null,
      "outputs": [
        {
          "output_type": "display_data",
          "data": {
            "text/plain": [
              "<Figure size 1000x600 with 1 Axes>"
            ],
            "image/png": "[encoded data removed]"
          },
          "metadata": {}
        }
      ]
    },
    {
      "cell_type": "markdown",
      "source": [
        "**The above bar graph showing the distribution of symptoms ('Cough_symptoms', 'Fever', 'Sore_throat', 'Shortness_of_breath', 'Headache') based on the 'Corona' status (positive/negative/other). Each bar will represent the count of each symptom for both positive and negative cases. from this graph we can comprehend 'Cough_symptoms', 'Fever', 'Headache' are more common among COVID positive patients.Headache is less common among COVID negative people.**"
      ],
      "metadata": {
        "id": "lYbiUbMQvpzx"
      }
    },
    {
      "cell_type": "markdown",
      "source": [
        "**our findings underscore the significance of 'Cough_symptoms', 'Fever', and 'Headache' as key symptoms associated with COVID-19 infection.so we can accept our first null hypothisis.**"
      ],
      "metadata": {
        "id": "lacUMcXATB3T"
      }
    },
    {
      "cell_type": "markdown",
      "source": [
        "### **Count plot -Count of COVID Cases by Sex**"
      ],
      "metadata": {
        "id": "hbYKGetMxTHJ"
      }
    },
    {
      "cell_type": "code",
      "source": [
        "# Create the count plot\n",
        "plt.figure(figsize=(8, 6))\n",
        "sns.countplot(data=df, x='Sex', hue='Corona')\n",
        "plt.title('Count of COVID Cases by Sex')\n",
        "plt.xlabel('Sex')\n",
        "plt.ylabel('Count')\n",
        "plt.legend(title='Corona', loc='upper right')\n",
        "plt.show()"
      ],
      "metadata": {
        "colab": {
          "base_uri": "https://localhost:8080/",
          "height": 564
        },
        "id": "BuGGGAtr8ERE",
        "outputId": "4c7bf24c-e0c9-4bf4-dae2-8aa79b2b963c"
      },
      "execution_count": null,
      "outputs": [
        {
          "output_type": "display_data",
          "data": {
            "text/plain": [
              "<Figure size 800x600 with 1 Axes>"
            ],
            "image/png": "[encoded data removed]"
          },
          "metadata": {}
        }
      ]
    },
    {
      "cell_type": "markdown",
      "source": [
        "**From the count plot of COVID cases by sex, it is evident that more positive cases are observed among males compared to females. This conclusion can be drawn from the fact that the bars representing 'positive' cases are notably taller for the 'Male' category compared to the 'Female' category**."
      ],
      "metadata": {
        "id": "GXBkbSEK_EVP"
      }
    },
    {
      "cell_type": "markdown",
      "source": [
        "### **Count of COVID Cases by Known Contact**"
      ],
      "metadata": {
        "id": "fFA3d3FJ-CjI"
      }
    },
    {
      "cell_type": "code",
      "source": [
        "# Create the count plot\n",
        "plt.figure(figsize=(10, 6))\n",
        "sns.countplot(data=df, x='Known_contact', hue='Corona')\n",
        "plt.title('Count of COVID Cases by Known Contact')\n",
        "plt.xlabel('Known Contact')\n",
        "plt.ylabel('Count')\n",
        "plt.legend(title='Corona', loc='upper right')\n",
        "plt.xticks(rotation=45)\n",
        "plt.show()"
      ],
      "metadata": {
        "colab": {
          "base_uri": "https://localhost:8080/",
          "height": 675
        },
        "id": "u-zkOJVn9ASA",
        "outputId": "76ee4ebd-fddb-42b7-e1d6-075dc269c296"
      },
      "execution_count": null,
      "outputs": [
        {
          "output_type": "display_data",
          "data": {
            "text/plain": [
              "<Figure size 1000x600 with 1 Axes>"
            ],
            "image/png": "[encoded data removed]"
          },
          "metadata": {}
        }
      ]
    },
    {
      "cell_type": "markdown",
      "source": [
        "**From the count plot of COVID cases by known contact, it is evident that a larger number of positive cases are associated with individuals who have had contact with confirmed COVID-19 cases compared to those who have had contact abroad.**"
      ],
      "metadata": {
        "id": "LVYNo-x__xPQ"
      }
    },
    {
      "cell_type": "markdown",
      "source": [
        "# **MODEL TRAINING**"
      ],
      "metadata": {
        "id": "qDOGXOCNwioj"
      }
    },
    {
      "cell_type": "code",
      "source": [
        "# Import necessary libraries\n",
        "import pandas as pd\n",
        "from sklearn.model_selection import train_test_split\n",
        "from sklearn.linear_model import LogisticRegression\n",
        "from sklearn.tree import DecisionTreeClassifier\n",
        "from sklearn.ensemble import RandomForestClassifier\n",
        "from xgboost import XGBClassifier\n",
        "from sklearn.preprocessing import OneHotEncoder, OrdinalEncoder, LabelEncoder\n",
        "from sklearn.compose import ColumnTransformer\n",
        "from sklearn.pipeline import Pipeline\n",
        "from sklearn.metrics import precision_score,f1_score\n",
        "from sklearn.model_selection import cross_val_score"
      ],
      "metadata": {
        "id": "lEXyZxR2wsDX"
      },
      "execution_count": null,
      "outputs": []
    },
    {
      "cell_type": "markdown",
      "source": [
        "**Split the data into independent features (X) and target variable (y)**"
      ],
      "metadata": {
        "id": "HKJvj9ahxC1K"
      }
    },
    {
      "cell_type": "code",
      "source": [
        "X = df.drop(columns=['Corona'])  # Features (independent variables)\n",
        "y = df['Corona']  # Target variable (dependent variable)\n",
        "\n",
        "# Split the data into training and testing sets\n",
        "X_train, X_test, y_train, y_test = train_test_split(X, y, test_size=0.2, random_state=42)"
      ],
      "metadata": {
        "id": "JM43hm26w1ce"
      },
      "execution_count": null,
      "outputs": []
    },
    {
      "cell_type": "markdown",
      "source": [
        "## **Logistic Regression**"
      ],
      "metadata": {
        "id": "JFEPlqd_xfP3"
      }
    },
    {
      "cell_type": "code",
      "source": [
        "# Define columns for nominal encoding and ordinal encoding\n",
        "nominal_features = ['Sex', 'Known_contact','Cough_symptoms', 'Fever', 'Sore_throat', 'Shortness_of_breath', 'Headache']\n",
        "\n",
        "ordinal_features = ['Age_60_above']\n",
        "\n",
        "# Define preprocessing steps\n",
        "preprocessor = ColumnTransformer(\n",
        "    transformers=[\n",
        "        ('nominal', OneHotEncoder(), nominal_features),\n",
        "        ('ordinal', OrdinalEncoder(), ordinal_features),\n",
        "    ])\n",
        "\n",
        "# Create a pipeline with preprocessing steps and the Logistic Regression model\n",
        "model = Pipeline(steps=[\n",
        "    ('preprocessor', preprocessor),\n",
        "    ('classifier', LogisticRegression())\n",
        "])\n",
        "\n",
        "# Fit the model to the training data\n",
        "model.fit(X_train, y_train)\n",
        "\n",
        "# Predict on the testing data\n",
        "y_pred = model.predict(X_test)\n"
      ],
      "metadata": {
        "id": "Bjrsfy_3nD40"
      },
      "execution_count": null,
      "outputs": []
    },
    {
      "cell_type": "code",
      "source": [
        "df[\"Corona\"].value_counts()  # checking our tatget variable is balanced or not"
      ],
      "metadata": {
        "colab": {
          "base_uri": "https://localhost:8080/"
        },
        "id": "BXF1sSFqzKnV",
        "outputId": "7b1c0126-42a4-481f-8e48-2ef9fbe322a7"
      },
      "execution_count": null,
      "outputs": [
        {
          "output_type": "execute_result",
          "data": {
            "text/plain": [
              "negative    260227\n",
              "positive     14729\n",
              "other         3892\n",
              "Name: Corona, dtype: int64"
            ]
          },
          "metadata": {},
          "execution_count": 109
        }
      ]
    },
    {
      "cell_type": "markdown",
      "source": [
        " we can observe that our target variable is  imbalanced"
      ],
      "metadata": {
        "id": "me79b88D1syK"
      }
    },
    {
      "cell_type": "code",
      "source": [
        "precision = precision_score(y_test, y_pred,  average='macro')  # Calculate precision\n",
        "f1 = f1_score(y_test, y_pred, average='macro')  # Calculate F1-score\n",
        "print(\"accuracy_of_logistic_regession_precission:\", precision)\n",
        "print(\"accuracy_of_logisticr_regession_f1_score:\",f1)\n"
      ],
      "metadata": {
        "colab": {
          "base_uri": "https://localhost:8080/"
        },
        "id": "kar9j_Bo02Y0",
        "outputId": "3d645435-06f4-4298-c8ac-256709cbf8fb"
      },
      "execution_count": null,
      "outputs": [
        {
          "output_type": "stream",
          "name": "stdout",
          "text": [
            "accuracy_of_logistic_regession_precission: 0.5499819882805896\n",
            "accuracy_of_logisticr_regession_f1_score: 0.5266599692607477\n"
          ]
        }
      ]
    },
    {
      "cell_type": "markdown",
      "source": [
        "# **Decision Tree model**"
      ],
      "metadata": {
        "id": "eNUSfc3_su9-"
      }
    },
    {
      "cell_type": "code",
      "source": [
        "# Create a pipeline with preprocessing steps and the Decision Tree model\n",
        "model = Pipeline(steps=[\n",
        "    ('preprocessor', preprocessor),\n",
        "    ('classifier', DecisionTreeClassifier())\n",
        "])\n",
        "\n",
        "# Fit the model to the training data\n",
        "model.fit(X_train, y_train)\n",
        "\n",
        "# Predict on the testing data\n",
        "y_pred = model.predict(X_test)\n",
        "\n",
        "precision = precision_score(y_test, y_pred,  average='macro')  # Calculate precision\n",
        "f1 = f1_score(y_test, y_pred, average='macro')  # Calculate F1-score\n",
        "print(\"accuracy_of_decision_tree_precission:\", precision)\n",
        "print(\"accuracy_of_decision_tree_f1_score:\",f1)\n"
      ],
      "metadata": {
        "colab": {
          "base_uri": "https://localhost:8080/"
        },
        "id": "d4uXDpl_nn5a",
        "outputId": "826ec966-6cbd-4fc4-9976-c88ff1e97cfe"
      },
      "execution_count": null,
      "outputs": [
        {
          "output_type": "stream",
          "name": "stdout",
          "text": [
            "accuracy_of_decision_tree_precission: 0.5681354799760894\n",
            "accuracy_of_decision_tree_f1_score: 0.5283425645623899\n"
          ]
        }
      ]
    },
    {
      "cell_type": "markdown",
      "source": [
        "# **Random Forest model**"
      ],
      "metadata": {
        "id": "l_k8nZVqtC9M"
      }
    },
    {
      "cell_type": "code",
      "source": [
        "# Define the pipeline with preprocessing steps and the Random Forest model\n",
        "model = Pipeline(steps=[\n",
        "    ('preprocessor', preprocessor),\n",
        "    ('classifier', RandomForestClassifier())\n",
        "])\n",
        "\n",
        "# Fit the model to the training data\n",
        "model.fit(X_train, y_train)\n",
        "\n",
        "# Predict on the testing data\n",
        "y_pred = model.predict(X_test)\n",
        "\n",
        "# Calculate accuracy\n",
        "precision = precision_score(y_test, y_pred,  average='macro')  # Calculate precision\n",
        "f1 = f1_score(y_test, y_pred, average='macro')  # Calculate F1-score\n",
        "print(\"accuracy_of_random_forest_precission:\", precision)\n",
        "print(\"accuracy_of_random_forest_f1_score:\",f1)\n",
        "\n"
      ],
      "metadata": {
        "colab": {
          "base_uri": "https://localhost:8080/"
        },
        "id": "G_RAY9ctpD3_",
        "outputId": "066bbab1-d347-4d23-c98d-e06c5ecf4c37"
      },
      "execution_count": null,
      "outputs": [
        {
          "output_type": "stream",
          "name": "stdout",
          "text": [
            "accuracy_of_random_forest_precission: 0.5675261332321021\n",
            "accuracy_of_random_forest_f1_score: 0.5289115820563016\n"
          ]
        }
      ]
    },
    {
      "cell_type": "markdown",
      "source": [
        "# **XG Boost model**"
      ],
      "metadata": {
        "id": "1uYo51AntRDD"
      }
    },
    {
      "cell_type": "code",
      "source": [
        "from sklearn.preprocessing import LabelEncoder\n",
        "\n",
        "# Encode target variable into numerical class labels\n",
        "label_encoder = LabelEncoder()\n",
        "y_train_encoded = label_encoder.fit_transform(y_train)\n",
        "y_test_encoded = label_encoder.transform(y_test)\n",
        "\n",
        "# Define the pipeline with preprocessing steps and the XGBoost model\n",
        "model = Pipeline(steps=[\n",
        "    ('preprocessor', preprocessor),\n",
        "    ('classifier', XGBClassifier())\n",
        "])\n",
        "\n",
        "# Fit the model to the training data\n",
        "model.fit(X_train, y_train_encoded)\n",
        "\n",
        "# Predict on the testing data\n",
        "y_pred_encoded = model.predict(X_test)\n",
        "\n",
        "# Calculate accuracy\n",
        "precision = precision_score(y_test, y_pred,  average='macro')  # Calculate precision\n",
        "f1 = f1_score(y_test, y_pred, average='macro')  # Calculate F1-score\n",
        "print(\"accuracy_of_xgboost_precission:\", precision)\n",
        "print(\"accuracy_of_xgboost_f1_score:\",f1)\n"
      ],
      "metadata": {
        "colab": {
          "base_uri": "https://localhost:8080/"
        },
        "id": "9bLire72qS_X",
        "outputId": "6edc5563-1e74-4fc6-8cb4-c35879d2cd33"
      },
      "execution_count": null,
      "outputs": [
        {
          "output_type": "stream",
          "name": "stdout",
          "text": [
            "accuracy_of_xgboost_precission: 0.5675261332321021\n",
            "accuracy_of_xgboost_f1_score: 0.5289115820563016\n"
          ]
        }
      ]
    },
    {
      "cell_type": "code",
      "source": [
        "import pandas as pd\n",
        "# Specify categorical columns\n",
        "categorical_columns = ['Cough_symptoms', 'Fever', 'Sore_throat', 'Shortness_of_breath', 'Headache', 'Corona', 'Age_60_above', 'Sex', 'Known_contact']\n",
        "\n",
        "# Perform one-hot encoding for categorical columns\n",
        "df_encoded = pd.get_dummies(df, columns=categorical_columns)\n",
        "\n"
      ],
      "metadata": {
        "id": "KajwhHy_z-fV"
      },
      "execution_count": null,
      "outputs": []
    },
    {
      "cell_type": "code",
      "source": [
        "from sklearn.preprocessing import LabelEncoder\n",
        "\n",
        "# Initialize LabelEncoder\n",
        "label_encoder = LabelEncoder()\n",
        "\n",
        "# Encode the target variable 'Corona'\n",
        "df['Corona_encoded'] = label_encoder.fit_transform(df['Corona'])\n"
      ],
      "metadata": {
        "id": "wIupI5FZ0cjz"
      },
      "execution_count": null,
      "outputs": []
    },
    {
      "cell_type": "markdown",
      "source": [
        "**Next perform cross validation for each model.**"
      ],
      "metadata": {
        "id": "lMscHFBzC8aX"
      }
    },
    {
      "cell_type": "code",
      "source": [
        "# Perform cross-validation with 10 folds using the training data\n",
        "scores1 = cross_val_score(RandomForestClassifier(n_estimators=40), X_train, y_train, cv=10)\n",
        "\n",
        "# Calculate the average score\n",
        "average_score = np.average(scores1)\n",
        "print(\"Average Score:\", average_score)"
      ],
      "metadata": {
        "colab": {
          "base_uri": "https://localhost:8080/"
        },
        "id": "1J0f1HsA0dOu",
        "outputId": "1d9d50f7-114d-4fbd-8427-0a48ca833ea3"
      },
      "execution_count": null,
      "outputs": [
        {
          "output_type": "stream",
          "name": "stdout",
          "text": [
            "Average Score: 0.9375375440676604\n"
          ]
        }
      ]
    },
    {
      "cell_type": "code",
      "source": [
        " #Perform cross-validation with Logistic Regression\n",
        "scores2 = cross_val_score(LogisticRegression(solver='liblinear', multi_class='ovr'), X_train, y_train, cv=10)\n",
        "# Calculate the average score\n",
        "average_score = np.average(scores1)\n",
        "print(\"Average Score:\", average_score)"
      ],
      "metadata": {
        "colab": {
          "base_uri": "https://localhost:8080/"
        },
        "id": "pwa-BhP01L9Y",
        "outputId": "b8e532fd-eab7-4314-cf5d-937c844196d8"
      },
      "execution_count": null,
      "outputs": [
        {
          "output_type": "stream",
          "name": "stdout",
          "text": [
            "Average Score: 0.9368785818193476\n"
          ]
        }
      ]
    },
    {
      "cell_type": "code",
      "source": [
        "# Perform cross-validation with Decision Tree\n",
        "scores1 = cross_val_score(DecisionTreeClassifier(), X_train, y_train, cv=7)\n",
        "# Calculate the average score\n",
        "average_score = np.average(scores1)\n",
        "print(\"Average Score:\", average_score)"
      ],
      "metadata": {
        "colab": {
          "base_uri": "https://localhost:8080/"
        },
        "id": "PWuKIdpq3U57",
        "outputId": "1153c8cf-2c6b-499d-d08a-e35e40450ae5"
      },
      "execution_count": null,
      "outputs": [
        {
          "output_type": "stream",
          "name": "stdout",
          "text": [
            "Average Score: 0.9368785818193476\n"
          ]
        }
      ]
    },
    {
      "cell_type": "code",
      "source": [
        "# Encode target variable into numerical class labels\n",
        "label_encoder = LabelEncoder()\n",
        "y_train_encoded = label_encoder.fit_transform(y_train)\n",
        "\n",
        "# Perform cross-validation with XGBoost algorithm\n",
        "scores1 = cross_val_score(XGBClassifier(n_estimators=40), X_train, y_train_encoded, cv=10)\n",
        "\n",
        "# Calculate the average score\n",
        "average_score = np.average(scores1)\n",
        "print(\"Average Score:\", average_score)\n"
      ],
      "metadata": {
        "colab": {
          "base_uri": "https://localhost:8080/"
        },
        "id": "dR56CX_872v_",
        "outputId": "a7c08126-bf7d-4815-eac7-f6e764607a5a"
      },
      "execution_count": null,
      "outputs": [
        {
          "output_type": "stream",
          "name": "stdout",
          "text": [
            "Average Score: 0.9572257298331557\n"
          ]
        }
      ]
    },
    {
      "cell_type": "markdown",
      "source": [
        "**To compare the performance of each model, I created a dataframe. Based on that dataframe, I plotted a bar graph.**"
      ],
      "metadata": {
        "id": "v9JGuXE0Da8N"
      }
    },
    {
      "cell_type": "code",
      "source": [
        "# Create a dictionary with model names and their corresponding average scores\n",
        "data = {\n",
        "    \"model\": [\"Random Forest\", \"Logistic Regression\", \"Decision Tree\", \"XGBoost\"],\n",
        "    \"accuracy\": [0.9375, 0.9369, 0.9369, 0.9572]\n",
        "}\n",
        "\n",
        "# Create a DataFrame from the dictionary\n",
        "df = pd.DataFrame(data)\n",
        "\n",
        "# Print the DataFrame\n",
        "print(df)\n"
      ],
      "metadata": {
        "colab": {
          "base_uri": "https://localhost:8080/"
        },
        "id": "mL7WLX5dD8o1",
        "outputId": "db348a7f-312c-4a6d-c4df-d8c0c214697b"
      },
      "execution_count": null,
      "outputs": [
        {
          "output_type": "stream",
          "name": "stdout",
          "text": [
            "                 model  accuracy\n",
            "0        Random Forest    0.9375\n",
            "1  Logistic Regression    0.9369\n",
            "2        Decision Tree    0.9369\n",
            "3              XGBoost    0.9572\n"
          ]
        }
      ]
    },
    {
      "cell_type": "code",
      "source": [
        "# Plot a bar graph\n",
        "plt.figure(figsize=(8, 6))\n",
        "plt.bar(df[\"model\"], df[\"accuracy\"], color='red')\n",
        "plt.xlabel('Model')\n",
        "plt.ylabel('Accuracy')\n",
        "plt.title('Model Performance Comparison')\n",
        "plt.ylim(0.9, 1.0)  # Set y-axis limit for better visualization"
      ],
      "metadata": {
        "colab": {
          "base_uri": "https://localhost:8080/",
          "height": 581
        },
        "id": "GAnUH2D4ENKx",
        "outputId": "80868a9c-1862-4aa6-f9ed-b880ce9beb98"
      },
      "execution_count": null,
      "outputs": [
        {
          "output_type": "execute_result",
          "data": {
            "text/plain": [
              "(0.9, 1.0)"
            ]
          },
          "metadata": {},
          "execution_count": 172
        },
        {
          "output_type": "display_data",
          "data": {
            "text/plain": [
              "<Figure size 800x600 with 1 Axes>"
            ],
            "image/png": "[encoded data removed]"
          },
          "metadata": {}
        }
      ]
    },
    {
      "cell_type": "markdown",
      "source": [
        "# **conclusion**"
      ],
      "metadata": {
        "id": "McKMViXrIR1W"
      }
    },
    {
      "cell_type": "markdown",
      "source": [
        "**After a comprehensive analysis and evaluation of various machine learning models, it is evident that XGBoost stands out as the best-performing model for our task. Our objective in this project was to predict corona ststus based on other featues and XGBoost has proven to be the most effective in achieving this goal.so we can accept our 2nd null hypothesis**\n",
        "\n",
        "**Throughout the project, i followed a structured approach that included data preprocessing, feature engineering, and model selection. We experimented with a range of algorithms, including Random Forest, Logistic Regression, and Decision Tree, but XGBoost consistently demonstrated superior performance across multiple evaluation metrics.**\n",
        "\n",
        "**The key strengths of XGBoost that contributed to its success in our project include its ability to handle complex datasets, robustness to outliers, and capability to capture intricate relationships between features. Additionally, XGBoost's implementation of gradient boosting algorithms with optimized tree-based models allowed it to achieve high accuracy and generalization on our dataset.**"
      ],
      "metadata": {
        "id": "zTwPBPhlIdqz"
      }
    }
  ]
}